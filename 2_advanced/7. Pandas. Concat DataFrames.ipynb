{
 "cells": [
  {
   "cell_type": "code",
   "execution_count": 43,
   "id": "9592273b",
   "metadata": {},
   "outputs": [],
   "source": [
    "# Importing Libraries\n",
    "import pandas as pd\n",
    "from datasets import load_dataset\n",
    "import matplotlib.pyplot as plt\n",
    "\n",
    "# Loading Data\n",
    "dataset = load_dataset('lukebarousse/data_jobs')\n",
    "df = dataset['train'].to_pandas()\n",
    "\n",
    "# Data Cleanup\n",
    "df['job_posted_date'] = pd.to_datetime(df['job_posted_date'])"
   ]
  },
  {
   "cell_type": "markdown",
   "id": "f0826900",
   "metadata": {},
   "source": [
    "Dividir el DataFrame por meses para luego unirlos con Concat()"
   ]
  },
  {
   "cell_type": "markdown",
   "id": "7b7e447c",
   "metadata": {},
   "source": [
    "Division del DF por meses"
   ]
  },
  {
   "cell_type": "code",
   "execution_count": 3,
   "id": "e87d88e9",
   "metadata": {},
   "outputs": [],
   "source": [
    "df['job_posted_month'] = df['job_posted_date'].dt.strftime('%b')"
   ]
  },
  {
   "cell_type": "code",
   "execution_count": 4,
   "id": "0531c849",
   "metadata": {},
   "outputs": [],
   "source": [
    "# dict_months = {\n",
    "#               'Jan': df_jan,\n",
    "#               'Feb': df_feb,\n",
    "#               'Mar': df_mar,\n",
    "#               'Apr': df_apr,\n",
    "#               'Jun': df_jun,\n",
    "#               'Jul': df_jul,\n",
    "#               'Aug': df_aug,\n",
    "#               'Sep': df_sep,\n",
    "#               'Oct': df_oct,\n",
    "#               'Nov': df_nov,\n",
    "#               'Dec': df_dec,\n",
    "#                             }"
   ]
  },
  {
   "cell_type": "code",
   "execution_count": 9,
   "id": "16d9a63a",
   "metadata": {},
   "outputs": [
    {
     "data": {
      "text/plain": [
       "array(['Jun', 'Jan', 'Oct', 'Jul', 'Aug', 'Nov', 'Mar', 'Dec', 'Apr',\n",
       "       'Feb', 'Sep', 'May'], dtype=object)"
      ]
     },
     "execution_count": 9,
     "metadata": {},
     "output_type": "execute_result"
    }
   ],
   "source": [
    "months = df['job_posted_month'].unique()\n",
    "months"
   ]
  },
  {
   "cell_type": "code",
   "execution_count": 17,
   "id": "987d14bc",
   "metadata": {},
   "outputs": [
    {
     "data": {
      "text/html": [
       "<div>\n",
       "<style scoped>\n",
       "    .dataframe tbody tr th:only-of-type {\n",
       "        vertical-align: middle;\n",
       "    }\n",
       "\n",
       "    .dataframe tbody tr th {\n",
       "        vertical-align: top;\n",
       "    }\n",
       "\n",
       "    .dataframe thead th {\n",
       "        text-align: right;\n",
       "    }\n",
       "</style>\n",
       "<table border=\"1\" class=\"dataframe\">\n",
       "  <thead>\n",
       "    <tr style=\"text-align: right;\">\n",
       "      <th></th>\n",
       "      <th>job_title_short</th>\n",
       "      <th>job_title</th>\n",
       "      <th>job_location</th>\n",
       "      <th>job_via</th>\n",
       "      <th>job_schedule_type</th>\n",
       "      <th>job_work_from_home</th>\n",
       "      <th>search_location</th>\n",
       "      <th>job_posted_date</th>\n",
       "      <th>job_no_degree_mention</th>\n",
       "      <th>job_health_insurance</th>\n",
       "      <th>job_country</th>\n",
       "      <th>salary_rate</th>\n",
       "      <th>salary_year_avg</th>\n",
       "      <th>salary_hour_avg</th>\n",
       "      <th>company_name</th>\n",
       "      <th>job_skills</th>\n",
       "      <th>job_type_skills</th>\n",
       "      <th>job_posted_month</th>\n",
       "    </tr>\n",
       "  </thead>\n",
       "  <tbody>\n",
       "    <tr>\n",
       "      <th>1</th>\n",
       "      <td>Data Analyst</td>\n",
       "      <td>Data Analyst</td>\n",
       "      <td>Guadalajara, Jalisco, Mexico</td>\n",
       "      <td>via BeBee México</td>\n",
       "      <td>Full-time</td>\n",
       "      <td>False</td>\n",
       "      <td>Mexico</td>\n",
       "      <td>2023-01-14 13:18:07</td>\n",
       "      <td>False</td>\n",
       "      <td>False</td>\n",
       "      <td>Mexico</td>\n",
       "      <td>None</td>\n",
       "      <td>NaN</td>\n",
       "      <td>NaN</td>\n",
       "      <td>Hewlett Packard Enterprise</td>\n",
       "      <td>['r', 'python', 'sql', 'nosql', 'power bi', 't...</td>\n",
       "      <td>{'analyst_tools': ['power bi', 'tableau'], 'pr...</td>\n",
       "      <td>Jan</td>\n",
       "    </tr>\n",
       "    <tr>\n",
       "      <th>20</th>\n",
       "      <td>Data Scientist</td>\n",
       "      <td>Data Scientist</td>\n",
       "      <td>Zaventem, Belgium</td>\n",
       "      <td>via BeBee Belgique</td>\n",
       "      <td>Full-time</td>\n",
       "      <td>False</td>\n",
       "      <td>Belgium</td>\n",
       "      <td>2023-01-31 13:53:38</td>\n",
       "      <td>False</td>\n",
       "      <td>False</td>\n",
       "      <td>Belgium</td>\n",
       "      <td>None</td>\n",
       "      <td>NaN</td>\n",
       "      <td>NaN</td>\n",
       "      <td>Devoteam</td>\n",
       "      <td>['r', 'python', 'sql', 'pandas', 'numpy', 'sci...</td>\n",
       "      <td>{'libraries': ['pandas', 'numpy', 'scikit-lear...</td>\n",
       "      <td>Jan</td>\n",
       "    </tr>\n",
       "    <tr>\n",
       "      <th>39</th>\n",
       "      <td>Data Engineer</td>\n",
       "      <td>Data Engineer</td>\n",
       "      <td>Fort Worth, TX</td>\n",
       "      <td>via LinkedIn</td>\n",
       "      <td>Full-time</td>\n",
       "      <td>False</td>\n",
       "      <td>Texas, United States</td>\n",
       "      <td>2023-01-25 13:24:01</td>\n",
       "      <td>False</td>\n",
       "      <td>False</td>\n",
       "      <td>United States</td>\n",
       "      <td>None</td>\n",
       "      <td>NaN</td>\n",
       "      <td>NaN</td>\n",
       "      <td>Programmers.io</td>\n",
       "      <td>['sql', 'python']</td>\n",
       "      <td>{'programming': ['sql', 'python']}</td>\n",
       "      <td>Jan</td>\n",
       "    </tr>\n",
       "  </tbody>\n",
       "</table>\n",
       "</div>"
      ],
      "text/plain": [
       "   job_title_short       job_title                  job_location  \\\n",
       "1     Data Analyst    Data Analyst  Guadalajara, Jalisco, Mexico   \n",
       "20  Data Scientist  Data Scientist             Zaventem, Belgium   \n",
       "39   Data Engineer   Data Engineer                Fort Worth, TX   \n",
       "\n",
       "               job_via job_schedule_type  job_work_from_home  \\\n",
       "1     via BeBee México         Full-time               False   \n",
       "20  via BeBee Belgique         Full-time               False   \n",
       "39        via LinkedIn         Full-time               False   \n",
       "\n",
       "         search_location     job_posted_date  job_no_degree_mention  \\\n",
       "1                 Mexico 2023-01-14 13:18:07                  False   \n",
       "20               Belgium 2023-01-31 13:53:38                  False   \n",
       "39  Texas, United States 2023-01-25 13:24:01                  False   \n",
       "\n",
       "    job_health_insurance    job_country salary_rate  salary_year_avg  \\\n",
       "1                  False         Mexico        None              NaN   \n",
       "20                 False        Belgium        None              NaN   \n",
       "39                 False  United States        None              NaN   \n",
       "\n",
       "    salary_hour_avg                company_name  \\\n",
       "1               NaN  Hewlett Packard Enterprise   \n",
       "20              NaN                    Devoteam   \n",
       "39              NaN              Programmers.io   \n",
       "\n",
       "                                           job_skills  \\\n",
       "1   ['r', 'python', 'sql', 'nosql', 'power bi', 't...   \n",
       "20  ['r', 'python', 'sql', 'pandas', 'numpy', 'sci...   \n",
       "39                                  ['sql', 'python']   \n",
       "\n",
       "                                      job_type_skills job_posted_month  \n",
       "1   {'analyst_tools': ['power bi', 'tableau'], 'pr...              Jan  \n",
       "20  {'libraries': ['pandas', 'numpy', 'scikit-lear...              Jan  \n",
       "39                 {'programming': ['sql', 'python']}              Jan  "
      ]
     },
     "execution_count": 17,
     "metadata": {},
     "output_type": "execute_result"
    }
   ],
   "source": [
    "dict_months = {month: df[df['job_posted_month']==month] for month in months}\n",
    "dict_months['Jan'].head(3)"
   ]
  },
  {
   "cell_type": "markdown",
   "id": "a663e65f",
   "metadata": {},
   "source": [
    "Concatenar meses en un DF"
   ]
  },
  {
   "cell_type": "code",
   "execution_count": 26,
   "id": "d8f13a5c",
   "metadata": {},
   "outputs": [
    {
     "data": {
      "text/plain": [
       "<Axes: xlabel='job_posted_month'>"
      ]
     },
     "execution_count": 26,
     "metadata": {},
     "output_type": "execute_result"
    },
    {
     "data": {
      "image/png": "[encoded data removed]",
      "text/plain": [
       "<Figure size 640x480 with 1 Axes>"
      ]
     },
     "metadata": {},
     "output_type": "display_data"
    }
   ],
   "source": [
    "# Tener en un DF el primer cuarto del ano\n",
    "\n",
    "df_concat_cuarto = pd.concat([dict_months['Jan'], dict_months['Feb'], dict_months['Mar']], ignore_index=True)\n",
    "df_concat_cuarto['job_posted_month'].value_counts().plot(kind='bar')"
   ]
  },
  {
   "cell_type": "markdown",
   "id": "93b7c771",
   "metadata": {},
   "source": [
    "Otros ejercicios"
   ]
  },
  {
   "cell_type": "code",
   "execution_count": 29,
   "id": "8b55bb86",
   "metadata": {},
   "outputs": [
    {
     "name": "stdout",
     "output_type": "stream",
     "text": [
      "   id nombre\n",
      "0   1    Ana\n",
      "1   2   Luis\n",
      "2   3  María\n",
      "3   4   Juan\n",
      "4   5   Sara\n",
      "5   6  Pedro\n"
     ]
    }
   ],
   "source": [
    "dfA = pd.DataFrame({\n",
    "    'id': [1, 2, 3],\n",
    "    'nombre': ['Ana', 'Luis', 'María']\n",
    "})\n",
    "\n",
    "dfB = pd.DataFrame({\n",
    "    'id': [4, 5, 6],\n",
    "    'nombre': ['Juan', 'Sara', 'Pedro']\n",
    "})\n",
    "\n",
    "concat_filas = pd.concat([dfA, dfB], ignore_index=True)\n",
    "print(concat_filas)\n"
   ]
  },
  {
   "cell_type": "code",
   "execution_count": 30,
   "id": "00fe333b",
   "metadata": {},
   "outputs": [
    {
     "name": "stdout",
     "output_type": "stream",
     "text": [
      "   id nombre  edad\n",
      "0   1    Ana    25\n",
      "1   2   Luis    30\n",
      "2   3  María    35\n"
     ]
    }
   ],
   "source": [
    "dfC = pd.DataFrame({\n",
    "    'edad': [25, 30, 35]\n",
    "})\n",
    "\n",
    "concat_columnas = pd.concat([dfA, dfC], axis=1)\n",
    "print(concat_columnas)\n"
   ]
  },
  {
   "cell_type": "code",
   "execution_count": null,
   "id": "c1402ce7",
   "metadata": {},
   "outputs": [],
   "source": [
    "# Concatenate two DataFrames to analyze job postings for Data Scientists and Data Analysts: \n",
    "# Create one DataFrame with job postings for Data Scientists named data_scientist_df \n",
    "# and another for Data Analysts named data_analyst_df.\n",
    "# Concatenate them and display the combined DataFrame called combined_df."
   ]
  },
  {
   "cell_type": "code",
   "execution_count": 41,
   "id": "3dc6ca16",
   "metadata": {},
   "outputs": [
    {
     "data": {
      "text/plain": [
       "<Axes: xlabel='job_title_short'>"
      ]
     },
     "execution_count": 41,
     "metadata": {},
     "output_type": "execute_result"
    },
    {
     "data": {
      "image/png": "[encoded data removed]",
      "text/plain": [
       "<Figure size 640x480 with 1 Axes>"
      ]
     },
     "metadata": {},
     "output_type": "display_data"
    }
   ],
   "source": [
    "df_data_scientist = df[df['job_title_short'] == 'Data Scientist']\n",
    "data_analyst_df = df[df['job_title_short'] == 'Data Analyst']\n",
    "df_data_concat = pd.concat([df_data_scientist, data_analyst_df], ignore_index=True)\n",
    "df_data_concat['job_title_short'].value_counts().plot(kind='bar')"
   ]
  },
  {
   "cell_type": "code",
   "execution_count": 42,
   "id": "bff277cc",
   "metadata": {},
   "outputs": [],
   "source": [
    "# Concatenate DataFrames to analyze job postings by month:\n",
    "# Create DataFrames for job postings for the last quarter (October, November, and December). These are respectively called oct_df, nov_df, and dec_df.\n",
    "# Concatenate them and display the combined DataFrame named combined_df."
   ]
  },
  {
   "cell_type": "code",
   "execution_count": 58,
   "id": "d912d684",
   "metadata": {},
   "outputs": [
    {
     "data": {
      "text/plain": [
       "<Axes: xlabel='job_month'>"
      ]
     },
     "execution_count": 58,
     "metadata": {},
     "output_type": "execute_result"
    },
    {
     "data": {
      "image/png": "[encoded data removed]",
      "text/plain": [
       "<Figure size 640x480 with 1 Axes>"
      ]
     },
     "metadata": {},
     "output_type": "display_data"
    }
   ],
   "source": [
    "df_data_months = df.copy()\n",
    "df_data_months['job_month'] = df_data_months['job_posted_date'].dt.strftime('%B')\n",
    "df_data_oct = df_data_months[df_data_months['job_month'] == 'October']\n",
    "df_data_nov = df_data_months[df_data_months['job_month'] == 'November']\n",
    "df_data_dec = df_data_months[df_data_months['job_month'] == 'December']\n",
    "df_concat_months = pd.concat([df_data_oct, df_data_nov, df_data_dec], ignore_index=True)\n",
    "df_concat_months['job_month'].value_counts().plot(kind ='bar')\n",
    "\n"
   ]
  },
  {
   "cell_type": "code",
   "execution_count": 59,
   "id": "6ce39e28",
   "metadata": {},
   "outputs": [],
   "source": [
    "# Concatenate DataFrames to analyze job postings for different job types:\n",
    "# Create DataFrames for 'Full-time' roles (called full_time_df) and 'Part-time' roles (called part_time_df) job postings.\n",
    "# Concatenate them and display the combined DataFrame named combined_df."
   ]
  },
  {
   "cell_type": "code",
   "execution_count": 62,
   "id": "e8c70853",
   "metadata": {},
   "outputs": [
    {
     "data": {
      "text/plain": [
       "<Axes: xlabel='job_schedule_type'>"
      ]
     },
     "execution_count": 62,
     "metadata": {},
     "output_type": "execute_result"
    },
    {
     "data": {
      "image/png": "[encoded data removed]",
      "text/plain": [
       "<Figure size 640x480 with 1 Axes>"
      ]
     },
     "metadata": {},
     "output_type": "display_data"
    }
   ],
   "source": [
    "df_job_type = df.copy()\n",
    "df_full_time = df_job_type[df_job_type['job_schedule_type']=='Full-time']\n",
    "df_part_time = df_job_type[df_job_type['job_schedule_type']=='Part-time']\n",
    "df_concat_time = pd.concat([df_full_time, df_part_time], ignore_index=True)\n",
    "df_concat_time['job_schedule_type'].value_counts().plot(kind='bar')"
   ]
  },
  {
   "cell_type": "code",
   "execution_count": null,
   "id": "190a15b8",
   "metadata": {},
   "outputs": [],
   "source": []
  }
 ],
 "metadata": {
  "kernelspec": {
   "display_name": "Python_course",
   "language": "python",
   "name": "python3"
  },
  "language_info": {
   "codemirror_mode": {
    "name": "ipython",
    "version": 3
   },
   "file_extension": ".py",
   "mimetype": "text/x-python",
   "name": "python",
   "nbconvert_exporter": "python",
   "pygments_lexer": "ipython3",
   "version": "3.11.13"
  }
 },
 "nbformat": 4,
 "nbformat_minor": 5
}
