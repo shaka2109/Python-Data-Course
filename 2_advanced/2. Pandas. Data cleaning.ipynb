{
 "cells": [
  {
   "cell_type": "code",
   "execution_count": 204,
   "id": "407197d1",
   "metadata": {},
   "outputs": [],
   "source": [
    "# Importing Libraries\n",
    "import pandas as pd\n",
    "from datasets import load_dataset\n",
    "import matplotlib.pyplot as plt\n",
    "\n",
    "# Loading Data\n",
    "dataset = load_dataset('lukebarousse/data_jobs')\n",
    "df = dataset['train'].to_pandas()\n",
    "\n",
    "# Data Cleanup\n",
    "df['job_posted_date'] = pd.to_datetime(df['job_posted_date'])"
   ]
  },
  {
   "cell_type": "markdown",
   "id": "cacee4c4",
   "metadata": {},
   "source": [
    "ELIMINAR VALORES NAN DE LA BASE DE DATOS"
   ]
  },
  {
   "cell_type": "code",
   "execution_count": null,
   "id": "c4c5f876",
   "metadata": {},
   "outputs": [],
   "source": [
    "\n",
    "## Se limpian los datos, reemplazando los valores NaN por valores que no afecten el restultado\n",
    "## Asi se puede colocar el mismo valor de la media en este caso con la funcion que se usa.\n",
    "## Se hace una copia del DataFrame original y se usa este para no alterar el original."
   ]
  },
  {
   "cell_type": "code",
   "execution_count": null,
   "id": "2f4f7926",
   "metadata": {},
   "outputs": [
    {
     "data": {
      "text/html": [
       "<div>\n",
       "<style scoped>\n",
       "    .dataframe tbody tr th:only-of-type {\n",
       "        vertical-align: middle;\n",
       "    }\n",
       "\n",
       "    .dataframe tbody tr th {\n",
       "        vertical-align: top;\n",
       "    }\n",
       "\n",
       "    .dataframe thead th {\n",
       "        text-align: right;\n",
       "    }\n",
       "</style>\n",
       "<table border=\"1\" class=\"dataframe\">\n",
       "  <thead>\n",
       "    <tr style=\"text-align: right;\">\n",
       "      <th></th>\n",
       "      <th>salary_year_avg</th>\n",
       "      <th>salary_hour_avg</th>\n",
       "    </tr>\n",
       "  </thead>\n",
       "  <tbody>\n",
       "    <tr>\n",
       "      <th>0</th>\n",
       "      <td>NaN</td>\n",
       "      <td>NaN</td>\n",
       "    </tr>\n",
       "    <tr>\n",
       "      <th>1</th>\n",
       "      <td>NaN</td>\n",
       "      <td>NaN</td>\n",
       "    </tr>\n",
       "    <tr>\n",
       "      <th>2</th>\n",
       "      <td>NaN</td>\n",
       "      <td>NaN</td>\n",
       "    </tr>\n",
       "    <tr>\n",
       "      <th>3</th>\n",
       "      <td>NaN</td>\n",
       "      <td>NaN</td>\n",
       "    </tr>\n",
       "    <tr>\n",
       "      <th>4</th>\n",
       "      <td>NaN</td>\n",
       "      <td>NaN</td>\n",
       "    </tr>\n",
       "    <tr>\n",
       "      <th>5</th>\n",
       "      <td>NaN</td>\n",
       "      <td>NaN</td>\n",
       "    </tr>\n",
       "    <tr>\n",
       "      <th>6</th>\n",
       "      <td>NaN</td>\n",
       "      <td>NaN</td>\n",
       "    </tr>\n",
       "    <tr>\n",
       "      <th>7</th>\n",
       "      <td>NaN</td>\n",
       "      <td>NaN</td>\n",
       "    </tr>\n",
       "    <tr>\n",
       "      <th>8</th>\n",
       "      <td>NaN</td>\n",
       "      <td>NaN</td>\n",
       "    </tr>\n",
       "    <tr>\n",
       "      <th>9</th>\n",
       "      <td>NaN</td>\n",
       "      <td>NaN</td>\n",
       "    </tr>\n",
       "    <tr>\n",
       "      <th>10</th>\n",
       "      <td>NaN</td>\n",
       "      <td>NaN</td>\n",
       "    </tr>\n",
       "  </tbody>\n",
       "</table>\n",
       "</div>"
      ],
      "text/plain": [
       "    salary_year_avg  salary_hour_avg\n",
       "0               NaN              NaN\n",
       "1               NaN              NaN\n",
       "2               NaN              NaN\n",
       "3               NaN              NaN\n",
       "4               NaN              NaN\n",
       "5               NaN              NaN\n",
       "6               NaN              NaN\n",
       "7               NaN              NaN\n",
       "8               NaN              NaN\n",
       "9               NaN              NaN\n",
       "10              NaN              NaN"
      ]
     },
     "execution_count": 4,
     "metadata": {},
     "output_type": "execute_result"
    }
   ],
   "source": [
    "df.loc[:10,['salary_year_avg','salary_hour_avg']] ##Se observan valores NaN"
   ]
  },
  {
   "cell_type": "code",
   "execution_count": 6,
   "id": "c81d03da",
   "metadata": {},
   "outputs": [],
   "source": [
    "median_year_salary = df['salary_year_avg'].median()\n",
    "median_hour_salary = df['salary_hour_avg'].median()"
   ]
  },
  {
   "cell_type": "code",
   "execution_count": 14,
   "id": "d9bbfc7e",
   "metadata": {},
   "outputs": [],
   "source": [
    "df_filled = df\n",
    "## Con esta funcion (fillna) se reemplazan los NaN y luego guardamos en si mismo\n",
    "df_filled['salary_year_avg'] = df_filled['salary_year_avg'].fillna(median_year_salary)\n",
    "df_filled['salary_hour_avg'] = df_filled['salary_hour_avg'].fillna(median_hour_salary)  "
   ]
  },
  {
   "cell_type": "code",
   "execution_count": 15,
   "id": "de0bf70f",
   "metadata": {},
   "outputs": [
    {
     "data": {
      "text/html": [
       "<div>\n",
       "<style scoped>\n",
       "    .dataframe tbody tr th:only-of-type {\n",
       "        vertical-align: middle;\n",
       "    }\n",
       "\n",
       "    .dataframe tbody tr th {\n",
       "        vertical-align: top;\n",
       "    }\n",
       "\n",
       "    .dataframe thead th {\n",
       "        text-align: right;\n",
       "    }\n",
       "</style>\n",
       "<table border=\"1\" class=\"dataframe\">\n",
       "  <thead>\n",
       "    <tr style=\"text-align: right;\">\n",
       "      <th></th>\n",
       "      <th>salary_year_avg</th>\n",
       "      <th>salary_hour_avg</th>\n",
       "    </tr>\n",
       "  </thead>\n",
       "  <tbody>\n",
       "    <tr>\n",
       "      <th>0</th>\n",
       "      <td>115000.0</td>\n",
       "      <td>45.98</td>\n",
       "    </tr>\n",
       "    <tr>\n",
       "      <th>1</th>\n",
       "      <td>115000.0</td>\n",
       "      <td>45.98</td>\n",
       "    </tr>\n",
       "    <tr>\n",
       "      <th>2</th>\n",
       "      <td>115000.0</td>\n",
       "      <td>45.98</td>\n",
       "    </tr>\n",
       "    <tr>\n",
       "      <th>3</th>\n",
       "      <td>115000.0</td>\n",
       "      <td>45.98</td>\n",
       "    </tr>\n",
       "    <tr>\n",
       "      <th>4</th>\n",
       "      <td>115000.0</td>\n",
       "      <td>45.98</td>\n",
       "    </tr>\n",
       "    <tr>\n",
       "      <th>5</th>\n",
       "      <td>115000.0</td>\n",
       "      <td>45.98</td>\n",
       "    </tr>\n",
       "    <tr>\n",
       "      <th>6</th>\n",
       "      <td>115000.0</td>\n",
       "      <td>45.98</td>\n",
       "    </tr>\n",
       "    <tr>\n",
       "      <th>7</th>\n",
       "      <td>115000.0</td>\n",
       "      <td>45.98</td>\n",
       "    </tr>\n",
       "    <tr>\n",
       "      <th>8</th>\n",
       "      <td>115000.0</td>\n",
       "      <td>45.98</td>\n",
       "    </tr>\n",
       "    <tr>\n",
       "      <th>9</th>\n",
       "      <td>115000.0</td>\n",
       "      <td>45.98</td>\n",
       "    </tr>\n",
       "    <tr>\n",
       "      <th>10</th>\n",
       "      <td>115000.0</td>\n",
       "      <td>45.98</td>\n",
       "    </tr>\n",
       "  </tbody>\n",
       "</table>\n",
       "</div>"
      ],
      "text/plain": [
       "    salary_year_avg  salary_hour_avg\n",
       "0          115000.0            45.98\n",
       "1          115000.0            45.98\n",
       "2          115000.0            45.98\n",
       "3          115000.0            45.98\n",
       "4          115000.0            45.98\n",
       "5          115000.0            45.98\n",
       "6          115000.0            45.98\n",
       "7          115000.0            45.98\n",
       "8          115000.0            45.98\n",
       "9          115000.0            45.98\n",
       "10         115000.0            45.98"
      ]
     },
     "execution_count": 15,
     "metadata": {},
     "output_type": "execute_result"
    }
   ],
   "source": [
    "df_filled.loc[:10,['salary_year_avg','salary_hour_avg']] ##Se vuelven a evaluar y no hay valores NaN"
   ]
  },
  {
   "cell_type": "markdown",
   "id": "3f9fc102",
   "metadata": {},
   "source": [
    "ELIMINAR DUPLICADOS DE LA BASE DATOS"
   ]
  },
  {
   "cell_type": "code",
   "execution_count": 16,
   "id": "ba38308d",
   "metadata": {},
   "outputs": [],
   "source": [
    "## Se crea otra base de datos a partir de la anterior"
   ]
  },
  {
   "cell_type": "code",
   "execution_count": 17,
   "id": "6bb0151d",
   "metadata": {},
   "outputs": [],
   "source": [
    "df_unique = df_filled"
   ]
  },
  {
   "cell_type": "code",
   "execution_count": null,
   "id": "6334c887",
   "metadata": {},
   "outputs": [],
   "source": [
    "df_unique = df_unique.drop_duplicates()\n",
    "## Se usa esta funcion para encontrar y eliminar filas duplicadas y se guarda en si misma"
   ]
  },
  {
   "cell_type": "code",
   "execution_count": 19,
   "id": "ffd031ff",
   "metadata": {},
   "outputs": [],
   "source": [
    "df_unique = df_unique.drop_duplicates(subset=['job_title','company_name'])\n",
    "## Aqui eliminamos duplicados de esas dos columnas"
   ]
  },
  {
   "cell_type": "markdown",
   "id": "872ed23c",
   "metadata": {},
   "source": [
    "Ejercicios para practicar (drop.duplicated y duplicated)"
   ]
  },
  {
   "cell_type": "code",
   "execution_count": 84,
   "id": "8b9cc7a3",
   "metadata": {},
   "outputs": [],
   "source": [
    "df_clean = df"
   ]
  },
  {
   "cell_type": "code",
   "execution_count": 21,
   "id": "242d673f",
   "metadata": {},
   "outputs": [],
   "source": [
    "## Elimina todas las filas completamente duplicadas (en todas las columnas) del DataFrame df."
   ]
  },
  {
   "cell_type": "code",
   "execution_count": 64,
   "id": "57b25f80",
   "metadata": {},
   "outputs": [
    {
     "name": "stdout",
     "output_type": "stream",
     "text": [
      "Antes: 785741\n",
      "Después: 785640\n",
      "Duplicados eliminados: 101\n"
     ]
    }
   ],
   "source": [
    "df_clean = df_clean.drop_duplicates()\n",
    "print(\"Antes:\", len(df))\n",
    "print(\"Después:\", len(df_clean))\n",
    "print('Duplicados eliminados:', len(df)-len(df_clean))"
   ]
  },
  {
   "cell_type": "code",
   "execution_count": 23,
   "id": "5ded5e4d",
   "metadata": {},
   "outputs": [],
   "source": [
    "## Elimina las filas duplicadas solo considerando la columna 'job_title'."
   ]
  },
  {
   "cell_type": "code",
   "execution_count": 69,
   "id": "49069a6d",
   "metadata": {},
   "outputs": [
    {
     "name": "stdout",
     "output_type": "stream",
     "text": [
      "Antes: 785741\n",
      "Después: 234674\n",
      "Duplicados eliminados: 551067\n"
     ]
    }
   ],
   "source": [
    "df_clean = df_clean.drop_duplicates(subset='job_title')\n",
    "print(\"Antes:\", len(df))\n",
    "print(\"Después:\", len(df_clean))\n",
    "print('Duplicados eliminados:', len(df)-len(df_clean))"
   ]
  },
  {
   "cell_type": "code",
   "execution_count": 30,
   "id": "174cfcb8",
   "metadata": {},
   "outputs": [],
   "source": [
    "## Elimina duplicados en 'job_title', pero conserva la última aparición de cada trabajo."
   ]
  },
  {
   "cell_type": "code",
   "execution_count": 32,
   "id": "3bd1cf65",
   "metadata": {},
   "outputs": [
    {
     "name": "stdout",
     "output_type": "stream",
     "text": [
      "Antes: 785741\n",
      "Después: 234674\n",
      "Duplicados eliminados: 551067\n"
     ]
    }
   ],
   "source": [
    "df_clean = df_clean.drop_duplicates(subset='job_title',keep='last')\n",
    "print(\"Antes:\", len(df))\n",
    "print(\"Después:\", len(df_clean))\n",
    "print('Duplicados eliminados:', len(df)-len(df_clean))"
   ]
  },
  {
   "cell_type": "code",
   "execution_count": 34,
   "id": "242dbfdc",
   "metadata": {},
   "outputs": [],
   "source": [
    "## Elimina todos los títulos de trabajo que estén repetidos, \n",
    "## de modo que solo queden los que aparecen una sola vez en 'job_title'."
   ]
  },
  {
   "cell_type": "code",
   "execution_count": 81,
   "id": "b0d1345f",
   "metadata": {},
   "outputs": [
    {
     "name": "stdout",
     "output_type": "stream",
     "text": [
      "Antes: 785640\n",
      "Después: 164304\n",
      "Duplicados eliminados: 621336\n"
     ]
    }
   ],
   "source": [
    "df_clean = df_clean.drop_duplicates(subset='job_title',keep=False)\n",
    "print(\"Antes:\", len(df))\n",
    "print(\"Después:\", len(df_clean))\n",
    "print('Duplicados eliminados:', len(df)-len(df_clean))"
   ]
  },
  {
   "cell_type": "code",
   "execution_count": 36,
   "id": "a8aeb2ee",
   "metadata": {},
   "outputs": [],
   "source": [
    "## Elimina los duplicados en todo el DataFrame sin crear una copia nueva."
   ]
  },
  {
   "cell_type": "code",
   "execution_count": 82,
   "id": "401d3f57",
   "metadata": {},
   "outputs": [
    {
     "name": "stdout",
     "output_type": "stream",
     "text": [
      "Antes: 785640\n",
      "Después: 164304\n",
      "Duplicados eliminados: 621336\n"
     ]
    },
    {
     "name": "stderr",
     "output_type": "stream",
     "text": [
      "C:\\Users\\JK_al\\AppData\\Local\\Temp\\ipykernel_2748\\295929820.py:1: SettingWithCopyWarning: \n",
      "A value is trying to be set on a copy of a slice from a DataFrame\n",
      "\n",
      "See the caveats in the documentation: https://pandas.pydata.org/pandas-docs/stable/user_guide/indexing.html#returning-a-view-versus-a-copy\n",
      "  df_clean.drop_duplicates(inplace=True)\n"
     ]
    }
   ],
   "source": [
    "\n",
    "df_clean.drop_duplicates(inplace=True)\n",
    "print(\"Antes:\", len(df))\n",
    "print(\"Después:\", len(df_clean))\n",
    "print('Duplicados eliminados:', len(df)-len(df_clean))"
   ]
  },
  {
   "cell_type": "code",
   "execution_count": 55,
   "id": "5918c320",
   "metadata": {},
   "outputs": [
    {
     "data": {
      "text/plain": [
       "np.int64(101)"
      ]
     },
     "execution_count": 55,
     "metadata": {},
     "output_type": "execute_result"
    }
   ],
   "source": [
    "df_clear = df\n",
    "duplicados = df_clear.duplicated().sum()\n",
    "duplicados"
   ]
  },
  {
   "cell_type": "code",
   "execution_count": null,
   "id": "450883b3",
   "metadata": {},
   "outputs": [],
   "source": [
    "## Encuentra qué filas están duplicadas en 'job_title' y muéstralas."
   ]
  },
  {
   "cell_type": "code",
   "execution_count": 94,
   "id": "043736a1",
   "metadata": {},
   "outputs": [
    {
     "data": {
      "text/html": [
       "<div>\n",
       "<style scoped>\n",
       "    .dataframe tbody tr th:only-of-type {\n",
       "        vertical-align: middle;\n",
       "    }\n",
       "\n",
       "    .dataframe tbody tr th {\n",
       "        vertical-align: top;\n",
       "    }\n",
       "\n",
       "    .dataframe thead th {\n",
       "        text-align: right;\n",
       "    }\n",
       "</style>\n",
       "<table border=\"1\" class=\"dataframe\">\n",
       "  <thead>\n",
       "    <tr style=\"text-align: right;\">\n",
       "      <th></th>\n",
       "      <th>job_title_short</th>\n",
       "      <th>job_title</th>\n",
       "      <th>job_location</th>\n",
       "      <th>job_via</th>\n",
       "      <th>job_schedule_type</th>\n",
       "      <th>job_work_from_home</th>\n",
       "      <th>search_location</th>\n",
       "      <th>job_posted_date</th>\n",
       "      <th>job_no_degree_mention</th>\n",
       "      <th>job_health_insurance</th>\n",
       "      <th>job_country</th>\n",
       "      <th>salary_rate</th>\n",
       "      <th>salary_year_avg</th>\n",
       "      <th>salary_hour_avg</th>\n",
       "      <th>company_name</th>\n",
       "      <th>job_skills</th>\n",
       "      <th>job_type_skills</th>\n",
       "    </tr>\n",
       "  </thead>\n",
       "  <tbody>\n",
       "    <tr>\n",
       "      <th>2</th>\n",
       "      <td>Data Engineer</td>\n",
       "      <td>Data Engineer/Scientist/Analyst, Mid or Senior...</td>\n",
       "      <td>Berlin, Germany</td>\n",
       "      <td>via LinkedIn</td>\n",
       "      <td>Full-time</td>\n",
       "      <td>False</td>\n",
       "      <td>Germany</td>\n",
       "      <td>2023-10-10 13:14:55</td>\n",
       "      <td>False</td>\n",
       "      <td>False</td>\n",
       "      <td>Germany</td>\n",
       "      <td>None</td>\n",
       "      <td>NaN</td>\n",
       "      <td>NaN</td>\n",
       "      <td>ALPHA Augmented Services</td>\n",
       "      <td>['python', 'sql', 'c#', 'azure', 'airflow', 'd...</td>\n",
       "      <td>{'analyst_tools': ['dax'], 'cloud': ['azure'],...</td>\n",
       "    </tr>\n",
       "    <tr>\n",
       "      <th>3</th>\n",
       "      <td>Data Engineer</td>\n",
       "      <td>LEAD ENGINEER - PRINCIPAL ANALYST - PRINCIPAL ...</td>\n",
       "      <td>San Antonio, TX</td>\n",
       "      <td>via Diversity.com</td>\n",
       "      <td>Full-time</td>\n",
       "      <td>False</td>\n",
       "      <td>Texas, United States</td>\n",
       "      <td>2023-07-04 13:01:41</td>\n",
       "      <td>True</td>\n",
       "      <td>False</td>\n",
       "      <td>United States</td>\n",
       "      <td>None</td>\n",
       "      <td>NaN</td>\n",
       "      <td>NaN</td>\n",
       "      <td>Southwest Research Institute</td>\n",
       "      <td>['python', 'c++', 'java', 'matlab', 'aws', 'te...</td>\n",
       "      <td>{'cloud': ['aws'], 'libraries': ['tensorflow',...</td>\n",
       "    </tr>\n",
       "    <tr>\n",
       "      <th>6</th>\n",
       "      <td>Senior Data Engineer</td>\n",
       "      <td>Senior Data Engineer  - GCP Cloud</td>\n",
       "      <td>Dearborn, MI</td>\n",
       "      <td>via LinkedIn</td>\n",
       "      <td>Full-time</td>\n",
       "      <td>False</td>\n",
       "      <td>Florida, United States</td>\n",
       "      <td>2023-03-27 13:18:18</td>\n",
       "      <td>False</td>\n",
       "      <td>False</td>\n",
       "      <td>United States</td>\n",
       "      <td>None</td>\n",
       "      <td>NaN</td>\n",
       "      <td>NaN</td>\n",
       "      <td>Miracle Software Systems, Inc</td>\n",
       "      <td>['sql', 'python', 'java', 'sql server', 'gcp',...</td>\n",
       "      <td>{'cloud': ['gcp', 'bigquery'], 'databases': ['...</td>\n",
       "    </tr>\n",
       "    <tr>\n",
       "      <th>8</th>\n",
       "      <td>Business Analyst</td>\n",
       "      <td>Technology &amp; Operations Business Analyst</td>\n",
       "      <td>Copenhagen, Denmark</td>\n",
       "      <td>via Trabajo.org</td>\n",
       "      <td>Full-time</td>\n",
       "      <td>False</td>\n",
       "      <td>Denmark</td>\n",
       "      <td>2023-06-05 13:44:34</td>\n",
       "      <td>False</td>\n",
       "      <td>False</td>\n",
       "      <td>Denmark</td>\n",
       "      <td>None</td>\n",
       "      <td>NaN</td>\n",
       "      <td>NaN</td>\n",
       "      <td>Hempel</td>\n",
       "      <td>['excel', 'powerpoint', 'power bi']</td>\n",
       "      <td>{'analyst_tools': ['excel', 'powerpoint', 'pow...</td>\n",
       "    </tr>\n",
       "    <tr>\n",
       "      <th>23</th>\n",
       "      <td>Machine Learning Engineer</td>\n",
       "      <td>PhD position in computer science (NLP, finance)</td>\n",
       "      <td>Russia</td>\n",
       "      <td>via hh.ru</td>\n",
       "      <td>Full-time</td>\n",
       "      <td>False</td>\n",
       "      <td>Russia</td>\n",
       "      <td>2023-09-30 13:52:00</td>\n",
       "      <td>False</td>\n",
       "      <td>False</td>\n",
       "      <td>Russia</td>\n",
       "      <td>None</td>\n",
       "      <td>NaN</td>\n",
       "      <td>NaN</td>\n",
       "      <td>Грешнев Олег Владимирович</td>\n",
       "      <td>['python', 'r']</td>\n",
       "      <td>{'programming': ['python', 'r']}</td>\n",
       "    </tr>\n",
       "    <tr>\n",
       "      <th>...</th>\n",
       "      <td>...</td>\n",
       "      <td>...</td>\n",
       "      <td>...</td>\n",
       "      <td>...</td>\n",
       "      <td>...</td>\n",
       "      <td>...</td>\n",
       "      <td>...</td>\n",
       "      <td>...</td>\n",
       "      <td>...</td>\n",
       "      <td>...</td>\n",
       "      <td>...</td>\n",
       "      <td>...</td>\n",
       "      <td>...</td>\n",
       "      <td>...</td>\n",
       "      <td>...</td>\n",
       "      <td>...</td>\n",
       "      <td>...</td>\n",
       "    </tr>\n",
       "    <tr>\n",
       "      <th>785721</th>\n",
       "      <td>Business Analyst</td>\n",
       "      <td>IT Business Analyst Data</td>\n",
       "      <td>Jerman</td>\n",
       "      <td>melalui Indeed</td>\n",
       "      <td>Pekerjaan tetap</td>\n",
       "      <td>False</td>\n",
       "      <td>Germany</td>\n",
       "      <td>2023-03-12 06:18:18</td>\n",
       "      <td>False</td>\n",
       "      <td>False</td>\n",
       "      <td>Germany</td>\n",
       "      <td>None</td>\n",
       "      <td>NaN</td>\n",
       "      <td>NaN</td>\n",
       "      <td>Raisin</td>\n",
       "      <td>['sql', 'python', 'aws', 'looker', 'tableau', ...</td>\n",
       "      <td>{'analyst_tools': ['looker', 'tableau', 'splun...</td>\n",
       "    </tr>\n",
       "    <tr>\n",
       "      <th>785722</th>\n",
       "      <td>Business Analyst</td>\n",
       "      <td>Business Analytics Training and Internship</td>\n",
       "      <td>Jerman</td>\n",
       "      <td>melalui LinkedIn</td>\n",
       "      <td>None</td>\n",
       "      <td>False</td>\n",
       "      <td>Germany</td>\n",
       "      <td>2023-03-12 06:18:18</td>\n",
       "      <td>False</td>\n",
       "      <td>False</td>\n",
       "      <td>Germany</td>\n",
       "      <td>None</td>\n",
       "      <td>NaN</td>\n",
       "      <td>NaN</td>\n",
       "      <td>OESON</td>\n",
       "      <td>['python']</td>\n",
       "      <td>{'programming': ['python']}</td>\n",
       "    </tr>\n",
       "    <tr>\n",
       "      <th>785734</th>\n",
       "      <td>Business Analyst</td>\n",
       "      <td>PreSales Engineer</td>\n",
       "      <td>Almaty, Kazakhstan</td>\n",
       "      <td>melalui Melga</td>\n",
       "      <td>Pekerjaan tetap</td>\n",
       "      <td>False</td>\n",
       "      <td>Kazakhstan</td>\n",
       "      <td>2023-03-12 06:31:13</td>\n",
       "      <td>False</td>\n",
       "      <td>False</td>\n",
       "      <td>Kazakhstan</td>\n",
       "      <td>None</td>\n",
       "      <td>NaN</td>\n",
       "      <td>NaN</td>\n",
       "      <td>Staff-UP Consulting Group</td>\n",
       "      <td>['windows']</td>\n",
       "      <td>{'os': ['windows']}</td>\n",
       "    </tr>\n",
       "    <tr>\n",
       "      <th>785738</th>\n",
       "      <td>Business Analyst</td>\n",
       "      <td>Commercial Analyst - Start Now</td>\n",
       "      <td>Malaysia</td>\n",
       "      <td>melalui Ricebowl</td>\n",
       "      <td>Pekerjaan tetap</td>\n",
       "      <td>False</td>\n",
       "      <td>Malaysia</td>\n",
       "      <td>2023-03-12 06:32:36</td>\n",
       "      <td>False</td>\n",
       "      <td>False</td>\n",
       "      <td>Malaysia</td>\n",
       "      <td>None</td>\n",
       "      <td>NaN</td>\n",
       "      <td>NaN</td>\n",
       "      <td>Lendlease Corporation</td>\n",
       "      <td>['powerpoint', 'excel']</td>\n",
       "      <td>{'analyst_tools': ['powerpoint', 'excel']}</td>\n",
       "    </tr>\n",
       "    <tr>\n",
       "      <th>785740</th>\n",
       "      <td>Software Engineer</td>\n",
       "      <td>AWS System Analyst</td>\n",
       "      <td>India</td>\n",
       "      <td>melalui Trigyn</td>\n",
       "      <td>Pekerjaan tetap</td>\n",
       "      <td>False</td>\n",
       "      <td>India</td>\n",
       "      <td>2023-03-13 06:16:31</td>\n",
       "      <td>False</td>\n",
       "      <td>False</td>\n",
       "      <td>India</td>\n",
       "      <td>None</td>\n",
       "      <td>NaN</td>\n",
       "      <td>NaN</td>\n",
       "      <td>Trigyn</td>\n",
       "      <td>['aws', 'flow']</td>\n",
       "      <td>{'cloud': ['aws'], 'other': ['flow']}</td>\n",
       "    </tr>\n",
       "  </tbody>\n",
       "</table>\n",
       "<p>164304 rows × 17 columns</p>\n",
       "</div>"
      ],
      "text/plain": [
       "                  job_title_short  \\\n",
       "2                   Data Engineer   \n",
       "3                   Data Engineer   \n",
       "6            Senior Data Engineer   \n",
       "8                Business Analyst   \n",
       "23      Machine Learning Engineer   \n",
       "...                           ...   \n",
       "785721           Business Analyst   \n",
       "785722           Business Analyst   \n",
       "785734           Business Analyst   \n",
       "785738           Business Analyst   \n",
       "785740          Software Engineer   \n",
       "\n",
       "                                                job_title  \\\n",
       "2       Data Engineer/Scientist/Analyst, Mid or Senior...   \n",
       "3       LEAD ENGINEER - PRINCIPAL ANALYST - PRINCIPAL ...   \n",
       "6                       Senior Data Engineer  - GCP Cloud   \n",
       "8                Technology & Operations Business Analyst   \n",
       "23        PhD position in computer science (NLP, finance)   \n",
       "...                                                   ...   \n",
       "785721                           IT Business Analyst Data   \n",
       "785722         Business Analytics Training and Internship   \n",
       "785734                                  PreSales Engineer   \n",
       "785738                     Commercial Analyst - Start Now   \n",
       "785740                                 AWS System Analyst   \n",
       "\n",
       "               job_location            job_via job_schedule_type  \\\n",
       "2           Berlin, Germany       via LinkedIn         Full-time   \n",
       "3           San Antonio, TX  via Diversity.com         Full-time   \n",
       "6              Dearborn, MI       via LinkedIn         Full-time   \n",
       "8       Copenhagen, Denmark    via Trabajo.org         Full-time   \n",
       "23                   Russia          via hh.ru         Full-time   \n",
       "...                     ...                ...               ...   \n",
       "785721               Jerman     melalui Indeed   Pekerjaan tetap   \n",
       "785722               Jerman   melalui LinkedIn              None   \n",
       "785734   Almaty, Kazakhstan      melalui Melga   Pekerjaan tetap   \n",
       "785738             Malaysia   melalui Ricebowl   Pekerjaan tetap   \n",
       "785740                India     melalui Trigyn   Pekerjaan tetap   \n",
       "\n",
       "        job_work_from_home         search_location     job_posted_date  \\\n",
       "2                    False                 Germany 2023-10-10 13:14:55   \n",
       "3                    False    Texas, United States 2023-07-04 13:01:41   \n",
       "6                    False  Florida, United States 2023-03-27 13:18:18   \n",
       "8                    False                 Denmark 2023-06-05 13:44:34   \n",
       "23                   False                  Russia 2023-09-30 13:52:00   \n",
       "...                    ...                     ...                 ...   \n",
       "785721               False                 Germany 2023-03-12 06:18:18   \n",
       "785722               False                 Germany 2023-03-12 06:18:18   \n",
       "785734               False              Kazakhstan 2023-03-12 06:31:13   \n",
       "785738               False                Malaysia 2023-03-12 06:32:36   \n",
       "785740               False                   India 2023-03-13 06:16:31   \n",
       "\n",
       "        job_no_degree_mention  job_health_insurance    job_country  \\\n",
       "2                       False                 False        Germany   \n",
       "3                        True                 False  United States   \n",
       "6                       False                 False  United States   \n",
       "8                       False                 False        Denmark   \n",
       "23                      False                 False         Russia   \n",
       "...                       ...                   ...            ...   \n",
       "785721                  False                 False        Germany   \n",
       "785722                  False                 False        Germany   \n",
       "785734                  False                 False     Kazakhstan   \n",
       "785738                  False                 False       Malaysia   \n",
       "785740                  False                 False          India   \n",
       "\n",
       "       salary_rate  salary_year_avg  salary_hour_avg  \\\n",
       "2             None              NaN              NaN   \n",
       "3             None              NaN              NaN   \n",
       "6             None              NaN              NaN   \n",
       "8             None              NaN              NaN   \n",
       "23            None              NaN              NaN   \n",
       "...            ...              ...              ...   \n",
       "785721        None              NaN              NaN   \n",
       "785722        None              NaN              NaN   \n",
       "785734        None              NaN              NaN   \n",
       "785738        None              NaN              NaN   \n",
       "785740        None              NaN              NaN   \n",
       "\n",
       "                         company_name  \\\n",
       "2            ALPHA Augmented Services   \n",
       "3        Southwest Research Institute   \n",
       "6       Miracle Software Systems, Inc   \n",
       "8                              Hempel   \n",
       "23          Грешнев Олег Владимирович   \n",
       "...                               ...   \n",
       "785721                         Raisin   \n",
       "785722                          OESON   \n",
       "785734      Staff-UP Consulting Group   \n",
       "785738          Lendlease Corporation   \n",
       "785740                         Trigyn   \n",
       "\n",
       "                                               job_skills  \\\n",
       "2       ['python', 'sql', 'c#', 'azure', 'airflow', 'd...   \n",
       "3       ['python', 'c++', 'java', 'matlab', 'aws', 'te...   \n",
       "6       ['sql', 'python', 'java', 'sql server', 'gcp',...   \n",
       "8                     ['excel', 'powerpoint', 'power bi']   \n",
       "23                                        ['python', 'r']   \n",
       "...                                                   ...   \n",
       "785721  ['sql', 'python', 'aws', 'looker', 'tableau', ...   \n",
       "785722                                         ['python']   \n",
       "785734                                        ['windows']   \n",
       "785738                            ['powerpoint', 'excel']   \n",
       "785740                                    ['aws', 'flow']   \n",
       "\n",
       "                                          job_type_skills  \n",
       "2       {'analyst_tools': ['dax'], 'cloud': ['azure'],...  \n",
       "3       {'cloud': ['aws'], 'libraries': ['tensorflow',...  \n",
       "6       {'cloud': ['gcp', 'bigquery'], 'databases': ['...  \n",
       "8       {'analyst_tools': ['excel', 'powerpoint', 'pow...  \n",
       "23                       {'programming': ['python', 'r']}  \n",
       "...                                                   ...  \n",
       "785721  {'analyst_tools': ['looker', 'tableau', 'splun...  \n",
       "785722                        {'programming': ['python']}  \n",
       "785734                                {'os': ['windows']}  \n",
       "785738         {'analyst_tools': ['powerpoint', 'excel']}  \n",
       "785740              {'cloud': ['aws'], 'other': ['flow']}  \n",
       "\n",
       "[164304 rows x 17 columns]"
      ]
     },
     "execution_count": 94,
     "metadata": {},
     "output_type": "execute_result"
    }
   ],
   "source": [
    "df_clean[~df_clean.duplicated(subset='job_title', keep=False)]\n"
   ]
  },
  {
   "cell_type": "markdown",
   "id": "f12c7937",
   "metadata": {},
   "source": [
    "Ejercicios para practicar (fillna)"
   ]
  },
  {
   "cell_type": "code",
   "execution_count": null,
   "id": "c612ac31",
   "metadata": {},
   "outputs": [],
   "source": [
    "## Para comprobar si tienes valores nulos 'isna()' y sum() para contarlos"
   ]
  },
  {
   "cell_type": "code",
   "execution_count": 126,
   "id": "e18b7ea0",
   "metadata": {},
   "outputs": [
    {
     "data": {
      "text/plain": [
       "job_title_short               0\n",
       "job_title                     1\n",
       "job_location               1045\n",
       "job_via                       8\n",
       "job_schedule_type         12667\n",
       "job_work_from_home            0\n",
       "search_location               0\n",
       "job_posted_date               0\n",
       "job_no_degree_mention         0\n",
       "job_health_insurance          0\n",
       "job_country                  49\n",
       "salary_rate              752674\n",
       "salary_year_avg          763738\n",
       "salary_hour_avg          775079\n",
       "company_name                 18\n",
       "job_skills               117037\n",
       "job_type_skills          117037\n",
       "dtype: int64"
      ]
     },
     "execution_count": 126,
     "metadata": {},
     "output_type": "execute_result"
    }
   ],
   "source": [
    "df.isna().sum()"
   ]
  },
  {
   "cell_type": "code",
   "execution_count": 141,
   "id": "38e0b251",
   "metadata": {},
   "outputs": [],
   "source": [
    "df_unicos = df"
   ]
  },
  {
   "cell_type": "code",
   "execution_count": 104,
   "id": "b5e46a4f",
   "metadata": {},
   "outputs": [],
   "source": [
    "## Reemplaza los valores nulos en la columna 'company_location' por \"Unknown\"."
   ]
  },
  {
   "cell_type": "code",
   "execution_count": 108,
   "id": "ba57ff02",
   "metadata": {},
   "outputs": [],
   "source": [
    "df_unicos['job_location'] = df_unicos['job_location'].fillna('Unknown')"
   ]
  },
  {
   "cell_type": "code",
   "execution_count": 109,
   "id": "c17188db",
   "metadata": {},
   "outputs": [
    {
     "data": {
      "text/plain": [
       "np.int64(0)"
      ]
     },
     "execution_count": 109,
     "metadata": {},
     "output_type": "execute_result"
    }
   ],
   "source": [
    "df_unicos['job_location'].isna().sum()"
   ]
  },
  {
   "cell_type": "code",
   "execution_count": 107,
   "id": "0e78b2b3",
   "metadata": {},
   "outputs": [],
   "source": [
    "## En la columna 'salary_year_avg', reemplaza los valores NaN con la media de los salarios existentes."
   ]
  },
  {
   "cell_type": "code",
   "execution_count": 114,
   "id": "4a15f50b",
   "metadata": {},
   "outputs": [],
   "source": [
    "promedio_salary = df_unicos['salary_year_avg'].mean()\n",
    "df_unicos['salary_year_avg'] = df_unicos['salary_year_avg'].fillna(promedio_salary)\n"
   ]
  },
  {
   "cell_type": "code",
   "execution_count": 115,
   "id": "c0a27cf2",
   "metadata": {},
   "outputs": [
    {
     "data": {
      "text/plain": [
       "np.int64(0)"
      ]
     },
     "execution_count": 115,
     "metadata": {},
     "output_type": "execute_result"
    }
   ],
   "source": [
    "df_unicos['salary_year_avg'].isna().sum()"
   ]
  },
  {
   "cell_type": "code",
   "execution_count": null,
   "id": "cf364c0d",
   "metadata": {},
   "outputs": [],
   "source": [
    "## Rellena los nulos con: 'job_title' → \"Sin título\", 'job_country' → \"Desconocido\", 'salary_year_avg' → 0"
   ]
  },
  {
   "cell_type": "code",
   "execution_count": 123,
   "id": "6e9976b0",
   "metadata": {},
   "outputs": [],
   "source": [
    "df_unicos = df_unicos.fillna({ 'job_title':'Sin titulo',\n",
    "                   'job_country':'Desconocido',\n",
    "                   'salary_hour_avg': 0      })"
   ]
  },
  {
   "cell_type": "code",
   "execution_count": null,
   "id": "a67dac6a",
   "metadata": {},
   "outputs": [],
   "source": [
    "## Rellena los valores nulos del DataFrame usando el último valor válido anterior o posterior dependiendo"
   ]
  },
  {
   "cell_type": "code",
   "execution_count": null,
   "id": "5754365b",
   "metadata": {},
   "outputs": [
    {
     "name": "stderr",
     "output_type": "stream",
     "text": [
      "C:\\Users\\JK_al\\AppData\\Local\\Temp\\ipykernel_2748\\1478639544.py:1: FutureWarning: DataFrame.fillna with 'method' is deprecated and will raise in a future version. Use obj.ffill() or obj.bfill() instead.\n",
      "  df_unicos = df_unicos.fillna(method='bfill')\n"
     ]
    }
   ],
   "source": [
    "df_unicos = df_unicos.fillna(method='bfill')"
   ]
  },
  {
   "cell_type": "code",
   "execution_count": 139,
   "id": "8d356c41",
   "metadata": {},
   "outputs": [
    {
     "data": {
      "text/html": [
       "<div>\n",
       "<style scoped>\n",
       "    .dataframe tbody tr th:only-of-type {\n",
       "        vertical-align: middle;\n",
       "    }\n",
       "\n",
       "    .dataframe tbody tr th {\n",
       "        vertical-align: top;\n",
       "    }\n",
       "\n",
       "    .dataframe thead th {\n",
       "        text-align: right;\n",
       "    }\n",
       "</style>\n",
       "<table border=\"1\" class=\"dataframe\">\n",
       "  <thead>\n",
       "    <tr style=\"text-align: right;\">\n",
       "      <th></th>\n",
       "      <th>job_title_short</th>\n",
       "      <th>job_title</th>\n",
       "      <th>job_location</th>\n",
       "      <th>job_via</th>\n",
       "      <th>job_schedule_type</th>\n",
       "      <th>job_work_from_home</th>\n",
       "      <th>search_location</th>\n",
       "      <th>job_posted_date</th>\n",
       "      <th>job_no_degree_mention</th>\n",
       "      <th>job_health_insurance</th>\n",
       "      <th>job_country</th>\n",
       "      <th>salary_rate</th>\n",
       "      <th>salary_year_avg</th>\n",
       "      <th>salary_hour_avg</th>\n",
       "      <th>company_name</th>\n",
       "      <th>job_skills</th>\n",
       "      <th>job_type_skills</th>\n",
       "    </tr>\n",
       "  </thead>\n",
       "  <tbody>\n",
       "    <tr>\n",
       "      <th>0</th>\n",
       "      <td>Senior Data Engineer</td>\n",
       "      <td>Senior Clinical Data Engineer / Principal Clin...</td>\n",
       "      <td>Watertown, CT</td>\n",
       "      <td>via Work Nearby</td>\n",
       "      <td>Full-time</td>\n",
       "      <td>False</td>\n",
       "      <td>Texas, United States</td>\n",
       "      <td>2023-06-16 13:44:15</td>\n",
       "      <td>False</td>\n",
       "      <td>False</td>\n",
       "      <td>United States</td>\n",
       "      <td>year</td>\n",
       "      <td>109500.0</td>\n",
       "      <td>97.5</td>\n",
       "      <td>Boehringer Ingelheim</td>\n",
       "      <td>['r', 'python', 'sql', 'nosql', 'power bi', 't...</td>\n",
       "      <td>{'analyst_tools': ['power bi', 'tableau'], 'pr...</td>\n",
       "    </tr>\n",
       "    <tr>\n",
       "      <th>1</th>\n",
       "      <td>Data Analyst</td>\n",
       "      <td>Data Analyst</td>\n",
       "      <td>Guadalajara, Jalisco, Mexico</td>\n",
       "      <td>via BeBee México</td>\n",
       "      <td>Full-time</td>\n",
       "      <td>False</td>\n",
       "      <td>Mexico</td>\n",
       "      <td>2023-01-14 13:18:07</td>\n",
       "      <td>False</td>\n",
       "      <td>False</td>\n",
       "      <td>Mexico</td>\n",
       "      <td>year</td>\n",
       "      <td>109500.0</td>\n",
       "      <td>97.5</td>\n",
       "      <td>Hewlett Packard Enterprise</td>\n",
       "      <td>['r', 'python', 'sql', 'nosql', 'power bi', 't...</td>\n",
       "      <td>{'analyst_tools': ['power bi', 'tableau'], 'pr...</td>\n",
       "    </tr>\n",
       "    <tr>\n",
       "      <th>2</th>\n",
       "      <td>Data Engineer</td>\n",
       "      <td>Data Engineer/Scientist/Analyst, Mid or Senior...</td>\n",
       "      <td>Berlin, Germany</td>\n",
       "      <td>via LinkedIn</td>\n",
       "      <td>Full-time</td>\n",
       "      <td>False</td>\n",
       "      <td>Germany</td>\n",
       "      <td>2023-10-10 13:14:55</td>\n",
       "      <td>False</td>\n",
       "      <td>False</td>\n",
       "      <td>Germany</td>\n",
       "      <td>year</td>\n",
       "      <td>109500.0</td>\n",
       "      <td>97.5</td>\n",
       "      <td>ALPHA Augmented Services</td>\n",
       "      <td>['python', 'sql', 'c#', 'azure', 'airflow', 'd...</td>\n",
       "      <td>{'analyst_tools': ['dax'], 'cloud': ['azure'],...</td>\n",
       "    </tr>\n",
       "    <tr>\n",
       "      <th>3</th>\n",
       "      <td>Data Engineer</td>\n",
       "      <td>LEAD ENGINEER - PRINCIPAL ANALYST - PRINCIPAL ...</td>\n",
       "      <td>San Antonio, TX</td>\n",
       "      <td>via Diversity.com</td>\n",
       "      <td>Full-time</td>\n",
       "      <td>False</td>\n",
       "      <td>Texas, United States</td>\n",
       "      <td>2023-07-04 13:01:41</td>\n",
       "      <td>True</td>\n",
       "      <td>False</td>\n",
       "      <td>United States</td>\n",
       "      <td>year</td>\n",
       "      <td>109500.0</td>\n",
       "      <td>97.5</td>\n",
       "      <td>Southwest Research Institute</td>\n",
       "      <td>['python', 'c++', 'java', 'matlab', 'aws', 'te...</td>\n",
       "      <td>{'cloud': ['aws'], 'libraries': ['tensorflow',...</td>\n",
       "    </tr>\n",
       "    <tr>\n",
       "      <th>4</th>\n",
       "      <td>Data Engineer</td>\n",
       "      <td>Data Engineer- Sr Jobs</td>\n",
       "      <td>Washington, DC</td>\n",
       "      <td>via Clearance Jobs</td>\n",
       "      <td>Full-time</td>\n",
       "      <td>False</td>\n",
       "      <td>Sudan</td>\n",
       "      <td>2023-08-07 14:29:36</td>\n",
       "      <td>False</td>\n",
       "      <td>False</td>\n",
       "      <td>Sudan</td>\n",
       "      <td>year</td>\n",
       "      <td>109500.0</td>\n",
       "      <td>97.5</td>\n",
       "      <td>Kristina Daniel</td>\n",
       "      <td>['bash', 'python', 'oracle', 'aws', 'ansible',...</td>\n",
       "      <td>{'cloud': ['oracle', 'aws'], 'other': ['ansibl...</td>\n",
       "    </tr>\n",
       "  </tbody>\n",
       "</table>\n",
       "</div>"
      ],
      "text/plain": [
       "        job_title_short                                          job_title  \\\n",
       "0  Senior Data Engineer  Senior Clinical Data Engineer / Principal Clin...   \n",
       "1          Data Analyst                                       Data Analyst   \n",
       "2         Data Engineer  Data Engineer/Scientist/Analyst, Mid or Senior...   \n",
       "3         Data Engineer  LEAD ENGINEER - PRINCIPAL ANALYST - PRINCIPAL ...   \n",
       "4         Data Engineer                             Data Engineer- Sr Jobs   \n",
       "\n",
       "                   job_location             job_via job_schedule_type  \\\n",
       "0                 Watertown, CT     via Work Nearby         Full-time   \n",
       "1  Guadalajara, Jalisco, Mexico    via BeBee México         Full-time   \n",
       "2               Berlin, Germany        via LinkedIn         Full-time   \n",
       "3               San Antonio, TX   via Diversity.com         Full-time   \n",
       "4                Washington, DC  via Clearance Jobs         Full-time   \n",
       "\n",
       "   job_work_from_home       search_location     job_posted_date  \\\n",
       "0               False  Texas, United States 2023-06-16 13:44:15   \n",
       "1               False                Mexico 2023-01-14 13:18:07   \n",
       "2               False               Germany 2023-10-10 13:14:55   \n",
       "3               False  Texas, United States 2023-07-04 13:01:41   \n",
       "4               False                 Sudan 2023-08-07 14:29:36   \n",
       "\n",
       "   job_no_degree_mention  job_health_insurance    job_country salary_rate  \\\n",
       "0                  False                 False  United States        year   \n",
       "1                  False                 False         Mexico        year   \n",
       "2                  False                 False        Germany        year   \n",
       "3                   True                 False  United States        year   \n",
       "4                  False                 False          Sudan        year   \n",
       "\n",
       "   salary_year_avg  salary_hour_avg                  company_name  \\\n",
       "0         109500.0             97.5          Boehringer Ingelheim   \n",
       "1         109500.0             97.5    Hewlett Packard Enterprise   \n",
       "2         109500.0             97.5      ALPHA Augmented Services   \n",
       "3         109500.0             97.5  Southwest Research Institute   \n",
       "4         109500.0             97.5               Kristina Daniel   \n",
       "\n",
       "                                          job_skills  \\\n",
       "0  ['r', 'python', 'sql', 'nosql', 'power bi', 't...   \n",
       "1  ['r', 'python', 'sql', 'nosql', 'power bi', 't...   \n",
       "2  ['python', 'sql', 'c#', 'azure', 'airflow', 'd...   \n",
       "3  ['python', 'c++', 'java', 'matlab', 'aws', 'te...   \n",
       "4  ['bash', 'python', 'oracle', 'aws', 'ansible',...   \n",
       "\n",
       "                                     job_type_skills  \n",
       "0  {'analyst_tools': ['power bi', 'tableau'], 'pr...  \n",
       "1  {'analyst_tools': ['power bi', 'tableau'], 'pr...  \n",
       "2  {'analyst_tools': ['dax'], 'cloud': ['azure'],...  \n",
       "3  {'cloud': ['aws'], 'libraries': ['tensorflow',...  \n",
       "4  {'cloud': ['oracle', 'aws'], 'other': ['ansibl...  "
      ]
     },
     "execution_count": 139,
     "metadata": {},
     "output_type": "execute_result"
    }
   ],
   "source": [
    "df_unicos.head(5)"
   ]
  },
  {
   "cell_type": "code",
   "execution_count": 142,
   "id": "31478075",
   "metadata": {},
   "outputs": [],
   "source": [
    "## Si 'job_location' es nulo, rellénalo con 'job_country'."
   ]
  },
  {
   "cell_type": "code",
   "execution_count": 145,
   "id": "ea0475db",
   "metadata": {},
   "outputs": [
    {
     "name": "stdout",
     "output_type": "stream",
     "text": [
      "1045\n",
      "1\n"
     ]
    }
   ],
   "source": [
    "Valor_antes = df_unicos['job_location'].isna().sum()\n",
    "df_unicos['job_location'] = df_unicos['job_location'].fillna(df_unicos['job_country'])\n",
    "Valor_despues = df_unicos['job_location'].isna().sum()\n",
    "print(Valor_antes)\n",
    "print(Valor_despues)"
   ]
  },
  {
   "cell_type": "markdown",
   "id": "7c7f2d12",
   "metadata": {},
   "source": [
    "Ejercicios con 'dropna()'"
   ]
  },
  {
   "cell_type": "code",
   "execution_count": 155,
   "metadata": {},
   "outputs": [],
   "source": [
    "df_limpio = df"
   ]
  },
  {
   "cell_type": "code",
   "execution_count": 156,
   "id": "0ccfea60",
   "metadata": {},
   "outputs": [
    {
     "data": {
      "text/plain": [
       "job_title_short               0\n",
       "job_title                     1\n",
       "job_location               1045\n",
       "job_via                       8\n",
       "job_schedule_type         12667\n",
       "job_work_from_home            0\n",
       "search_location               0\n",
       "job_posted_date               0\n",
       "job_no_degree_mention         0\n",
       "job_health_insurance          0\n",
       "job_country                  49\n",
       "salary_rate              752674\n",
       "salary_year_avg          763738\n",
       "salary_hour_avg          775079\n",
       "company_name                 18\n",
       "job_skills               117037\n",
       "job_type_skills          117037\n",
       "dtype: int64"
      ]
     },
     "execution_count": 156,
     "metadata": {},
     "output_type": "execute_result"
    }
   ],
   "source": [
    "df_limpio.isna().sum()"
   ]
  },
  {
   "cell_type": "code",
   "execution_count": 148,
   "id": "bec7f682",
   "metadata": {},
   "outputs": [],
   "source": [
    "## Eliminar todas las filas con al menos un NaN"
   ]
  },
  {
   "cell_type": "code",
   "execution_count": 164,
   "id": "381dfe15",
   "metadata": {},
   "outputs": [],
   "source": [
    "df_limpio1 = df_limpio.dropna()"
   ]
  },
  {
   "cell_type": "code",
   "execution_count": 165,
   "id": "19fb5df6",
   "metadata": {},
   "outputs": [
    {
     "data": {
      "text/plain": [
       "job_title_short          0\n",
       "job_title                0\n",
       "job_location             0\n",
       "job_via                  0\n",
       "job_schedule_type        0\n",
       "job_work_from_home       0\n",
       "search_location          0\n",
       "job_posted_date          0\n",
       "job_no_degree_mention    0\n",
       "job_health_insurance     0\n",
       "job_country              0\n",
       "salary_rate              0\n",
       "salary_year_avg          0\n",
       "salary_hour_avg          0\n",
       "company_name             0\n",
       "job_skills               0\n",
       "job_type_skills          0\n",
       "dtype: int64"
      ]
     },
     "execution_count": 165,
     "metadata": {},
     "output_type": "execute_result"
    }
   ],
   "source": [
    "df_limpio1.isna().sum()"
   ]
  },
  {
   "cell_type": "code",
   "execution_count": 161,
   "id": "6dda8a19",
   "metadata": {},
   "outputs": [],
   "source": [
    "## Eliminar solo filas con todos los valores NaN"
   ]
  },
  {
   "cell_type": "code",
   "execution_count": 162,
   "id": "165093a7",
   "metadata": {},
   "outputs": [],
   "source": [
    "df_limpio2 = df_limpio.dropna(how=\"all\")"
   ]
  },
  {
   "cell_type": "code",
   "execution_count": 163,
   "id": "3b0c1bcc",
   "metadata": {},
   "outputs": [
    {
     "data": {
      "text/plain": [
       "job_title_short               0\n",
       "job_title                     1\n",
       "job_location               1045\n",
       "job_via                       8\n",
       "job_schedule_type         12667\n",
       "job_work_from_home            0\n",
       "search_location               0\n",
       "job_posted_date               0\n",
       "job_no_degree_mention         0\n",
       "job_health_insurance          0\n",
       "job_country                  49\n",
       "salary_rate              752674\n",
       "salary_year_avg          763738\n",
       "salary_hour_avg          775079\n",
       "company_name                 18\n",
       "job_skills               117037\n",
       "job_type_skills          117037\n",
       "dtype: int64"
      ]
     },
     "execution_count": 163,
     "metadata": {},
     "output_type": "execute_result"
    }
   ],
   "source": [
    "df_limpio2.isna().sum()"
   ]
  },
  {
   "cell_type": "code",
   "execution_count": 166,
   "id": "dbe492da",
   "metadata": {},
   "outputs": [],
   "source": [
    "## Eliminar columnas con valores NaN"
   ]
  },
  {
   "cell_type": "code",
   "execution_count": 167,
   "id": "499ecb2b",
   "metadata": {},
   "outputs": [],
   "source": [
    "df_limpio3 = df_limpio.dropna(axis=1)"
   ]
  },
  {
   "cell_type": "code",
   "execution_count": 168,
   "id": "78cfe26c",
   "metadata": {},
   "outputs": [
    {
     "data": {
      "text/plain": [
       "job_title_short          0\n",
       "job_work_from_home       0\n",
       "search_location          0\n",
       "job_posted_date          0\n",
       "job_no_degree_mention    0\n",
       "job_health_insurance     0\n",
       "dtype: int64"
      ]
     },
     "execution_count": 168,
     "metadata": {},
     "output_type": "execute_result"
    }
   ],
   "source": [
    "df_limpio3.isna().sum()"
   ]
  },
  {
   "cell_type": "code",
   "execution_count": 169,
   "id": "d0dd8137",
   "metadata": {},
   "outputs": [
    {
     "data": {
      "text/html": [
       "<div>\n",
       "<style scoped>\n",
       "    .dataframe tbody tr th:only-of-type {\n",
       "        vertical-align: middle;\n",
       "    }\n",
       "\n",
       "    .dataframe tbody tr th {\n",
       "        vertical-align: top;\n",
       "    }\n",
       "\n",
       "    .dataframe thead th {\n",
       "        text-align: right;\n",
       "    }\n",
       "</style>\n",
       "<table border=\"1\" class=\"dataframe\">\n",
       "  <thead>\n",
       "    <tr style=\"text-align: right;\">\n",
       "      <th></th>\n",
       "      <th>job_title_short</th>\n",
       "      <th>job_work_from_home</th>\n",
       "      <th>search_location</th>\n",
       "      <th>job_posted_date</th>\n",
       "      <th>job_no_degree_mention</th>\n",
       "      <th>job_health_insurance</th>\n",
       "    </tr>\n",
       "  </thead>\n",
       "  <tbody>\n",
       "    <tr>\n",
       "      <th>0</th>\n",
       "      <td>Senior Data Engineer</td>\n",
       "      <td>False</td>\n",
       "      <td>Texas, United States</td>\n",
       "      <td>2023-06-16 13:44:15</td>\n",
       "      <td>False</td>\n",
       "      <td>False</td>\n",
       "    </tr>\n",
       "    <tr>\n",
       "      <th>1</th>\n",
       "      <td>Data Analyst</td>\n",
       "      <td>False</td>\n",
       "      <td>Mexico</td>\n",
       "      <td>2023-01-14 13:18:07</td>\n",
       "      <td>False</td>\n",
       "      <td>False</td>\n",
       "    </tr>\n",
       "    <tr>\n",
       "      <th>2</th>\n",
       "      <td>Data Engineer</td>\n",
       "      <td>False</td>\n",
       "      <td>Germany</td>\n",
       "      <td>2023-10-10 13:14:55</td>\n",
       "      <td>False</td>\n",
       "      <td>False</td>\n",
       "    </tr>\n",
       "    <tr>\n",
       "      <th>3</th>\n",
       "      <td>Data Engineer</td>\n",
       "      <td>False</td>\n",
       "      <td>Texas, United States</td>\n",
       "      <td>2023-07-04 13:01:41</td>\n",
       "      <td>True</td>\n",
       "      <td>False</td>\n",
       "    </tr>\n",
       "    <tr>\n",
       "      <th>4</th>\n",
       "      <td>Data Engineer</td>\n",
       "      <td>False</td>\n",
       "      <td>Sudan</td>\n",
       "      <td>2023-08-07 14:29:36</td>\n",
       "      <td>False</td>\n",
       "      <td>False</td>\n",
       "    </tr>\n",
       "  </tbody>\n",
       "</table>\n",
       "</div>"
      ],
      "text/plain": [
       "        job_title_short  job_work_from_home       search_location  \\\n",
       "0  Senior Data Engineer               False  Texas, United States   \n",
       "1          Data Analyst               False                Mexico   \n",
       "2         Data Engineer               False               Germany   \n",
       "3         Data Engineer               False  Texas, United States   \n",
       "4         Data Engineer               False                 Sudan   \n",
       "\n",
       "      job_posted_date  job_no_degree_mention  job_health_insurance  \n",
       "0 2023-06-16 13:44:15                  False                 False  \n",
       "1 2023-01-14 13:18:07                  False                 False  \n",
       "2 2023-10-10 13:14:55                  False                 False  \n",
       "3 2023-07-04 13:01:41                   True                 False  \n",
       "4 2023-08-07 14:29:36                  False                 False  "
      ]
     },
     "execution_count": 169,
     "metadata": {},
     "output_type": "execute_result"
    }
   ],
   "source": [
    "df_limpio3.head(5)"
   ]
  },
  {
   "cell_type": "code",
   "execution_count": 176,
   "id": "315fc53f",
   "metadata": {},
   "outputs": [],
   "source": [
    "## Eliminar filas solo si faltan datos en una columna específica, 'salary_year_avg' sea NaN"
   ]
  },
  {
   "cell_type": "code",
   "execution_count": 186,
   "id": "be3db371",
   "metadata": {},
   "outputs": [],
   "source": [
    "df_limpio7 = df_limpio.dropna(subset=['salary_year_avg'])"
   ]
  },
  {
   "cell_type": "code",
   "execution_count": 187,
   "id": "1881be51",
   "metadata": {},
   "outputs": [
    {
     "data": {
      "text/html": [
       "<div>\n",
       "<style scoped>\n",
       "    .dataframe tbody tr th:only-of-type {\n",
       "        vertical-align: middle;\n",
       "    }\n",
       "\n",
       "    .dataframe tbody tr th {\n",
       "        vertical-align: top;\n",
       "    }\n",
       "\n",
       "    .dataframe thead th {\n",
       "        text-align: right;\n",
       "    }\n",
       "</style>\n",
       "<table border=\"1\" class=\"dataframe\">\n",
       "  <thead>\n",
       "    <tr style=\"text-align: right;\">\n",
       "      <th></th>\n",
       "      <th>job_title_short</th>\n",
       "      <th>job_title</th>\n",
       "      <th>job_location</th>\n",
       "      <th>job_via</th>\n",
       "      <th>job_schedule_type</th>\n",
       "      <th>job_work_from_home</th>\n",
       "      <th>search_location</th>\n",
       "      <th>job_posted_date</th>\n",
       "      <th>job_no_degree_mention</th>\n",
       "      <th>job_health_insurance</th>\n",
       "      <th>job_country</th>\n",
       "      <th>salary_rate</th>\n",
       "      <th>salary_year_avg</th>\n",
       "      <th>salary_hour_avg</th>\n",
       "      <th>company_name</th>\n",
       "      <th>job_skills</th>\n",
       "      <th>job_type_skills</th>\n",
       "    </tr>\n",
       "  </thead>\n",
       "  <tbody>\n",
       "    <tr>\n",
       "      <th>28</th>\n",
       "      <td>Data Scientist</td>\n",
       "      <td>CRM Data Specialist</td>\n",
       "      <td>San José Province, San José, Costa Rica</td>\n",
       "      <td>via Ai-Jobs.net</td>\n",
       "      <td>Full-time</td>\n",
       "      <td>False</td>\n",
       "      <td>Costa Rica</td>\n",
       "      <td>2023-08-01 13:37:57</td>\n",
       "      <td>False</td>\n",
       "      <td>False</td>\n",
       "      <td>Costa Rica</td>\n",
       "      <td>year</td>\n",
       "      <td>109500.0</td>\n",
       "      <td>NaN</td>\n",
       "      <td>Netskope</td>\n",
       "      <td>['gdpr', 'excel']</td>\n",
       "      <td>{'analyst_tools': ['excel'], 'libraries': ['gd...</td>\n",
       "    </tr>\n",
       "    <tr>\n",
       "      <th>77</th>\n",
       "      <td>Data Engineer</td>\n",
       "      <td>Data Engineer</td>\n",
       "      <td>Arlington, VA</td>\n",
       "      <td>via LinkedIn</td>\n",
       "      <td>Full-time</td>\n",
       "      <td>False</td>\n",
       "      <td>Sudan</td>\n",
       "      <td>2023-06-26 14:22:54</td>\n",
       "      <td>False</td>\n",
       "      <td>False</td>\n",
       "      <td>Sudan</td>\n",
       "      <td>year</td>\n",
       "      <td>140000.0</td>\n",
       "      <td>NaN</td>\n",
       "      <td>Intelletec</td>\n",
       "      <td>['mongodb', 'mongodb', 'python', 'r', 'sql', '...</td>\n",
       "      <td>{'analyst_tools': ['tableau'], 'cloud': ['orac...</td>\n",
       "    </tr>\n",
       "    <tr>\n",
       "      <th>92</th>\n",
       "      <td>Data Engineer</td>\n",
       "      <td>Remote - Data Engineer - Permanent - W2</td>\n",
       "      <td>Anywhere</td>\n",
       "      <td>via LinkedIn</td>\n",
       "      <td>Full-time</td>\n",
       "      <td>True</td>\n",
       "      <td>Illinois, United States</td>\n",
       "      <td>2023-02-21 13:29:59</td>\n",
       "      <td>False</td>\n",
       "      <td>True</td>\n",
       "      <td>United States</td>\n",
       "      <td>year</td>\n",
       "      <td>120000.0</td>\n",
       "      <td>NaN</td>\n",
       "      <td>Apex Systems</td>\n",
       "      <td>['sql', 'python']</td>\n",
       "      <td>{'programming': ['sql', 'python']}</td>\n",
       "    </tr>\n",
       "    <tr>\n",
       "      <th>100</th>\n",
       "      <td>Data Scientist</td>\n",
       "      <td>Data Scientist, Risk Data Mining - USDS</td>\n",
       "      <td>Mountain View, CA</td>\n",
       "      <td>via LinkedIn</td>\n",
       "      <td>Full-time</td>\n",
       "      <td>False</td>\n",
       "      <td>California, United States</td>\n",
       "      <td>2023-07-31 13:01:18</td>\n",
       "      <td>False</td>\n",
       "      <td>True</td>\n",
       "      <td>United States</td>\n",
       "      <td>year</td>\n",
       "      <td>228222.0</td>\n",
       "      <td>NaN</td>\n",
       "      <td>TikTok</td>\n",
       "      <td>['sql', 'r', 'python', 'express']</td>\n",
       "      <td>{'programming': ['sql', 'r', 'python'], 'webfr...</td>\n",
       "    </tr>\n",
       "    <tr>\n",
       "      <th>109</th>\n",
       "      <td>Data Analyst</td>\n",
       "      <td>Senior Supply Chain Analytics Analyst</td>\n",
       "      <td>Anywhere</td>\n",
       "      <td>via Get.It</td>\n",
       "      <td>Full-time</td>\n",
       "      <td>True</td>\n",
       "      <td>Illinois, United States</td>\n",
       "      <td>2023-10-12 13:02:19</td>\n",
       "      <td>False</td>\n",
       "      <td>True</td>\n",
       "      <td>United States</td>\n",
       "      <td>year</td>\n",
       "      <td>89000.0</td>\n",
       "      <td>NaN</td>\n",
       "      <td>Get It Recruit - Transportation</td>\n",
       "      <td>['python', 'r', 'alteryx', 'tableau']</td>\n",
       "      <td>{'analyst_tools': ['alteryx', 'tableau'], 'pro...</td>\n",
       "    </tr>\n",
       "  </tbody>\n",
       "</table>\n",
       "</div>"
      ],
      "text/plain": [
       "    job_title_short                                job_title  \\\n",
       "28   Data Scientist                      CRM Data Specialist   \n",
       "77    Data Engineer                            Data Engineer   \n",
       "92    Data Engineer  Remote - Data Engineer - Permanent - W2   \n",
       "100  Data Scientist  Data Scientist, Risk Data Mining - USDS   \n",
       "109    Data Analyst    Senior Supply Chain Analytics Analyst   \n",
       "\n",
       "                                job_location          job_via  \\\n",
       "28   San José Province, San José, Costa Rica  via Ai-Jobs.net   \n",
       "77                             Arlington, VA     via LinkedIn   \n",
       "92                                  Anywhere     via LinkedIn   \n",
       "100                        Mountain View, CA     via LinkedIn   \n",
       "109                                 Anywhere       via Get.It   \n",
       "\n",
       "    job_schedule_type  job_work_from_home            search_location  \\\n",
       "28          Full-time               False                 Costa Rica   \n",
       "77          Full-time               False                      Sudan   \n",
       "92          Full-time                True    Illinois, United States   \n",
       "100         Full-time               False  California, United States   \n",
       "109         Full-time                True    Illinois, United States   \n",
       "\n",
       "        job_posted_date  job_no_degree_mention  job_health_insurance  \\\n",
       "28  2023-08-01 13:37:57                  False                 False   \n",
       "77  2023-06-26 14:22:54                  False                 False   \n",
       "92  2023-02-21 13:29:59                  False                  True   \n",
       "100 2023-07-31 13:01:18                  False                  True   \n",
       "109 2023-10-12 13:02:19                  False                  True   \n",
       "\n",
       "       job_country salary_rate  salary_year_avg  salary_hour_avg  \\\n",
       "28      Costa Rica        year         109500.0              NaN   \n",
       "77           Sudan        year         140000.0              NaN   \n",
       "92   United States        year         120000.0              NaN   \n",
       "100  United States        year         228222.0              NaN   \n",
       "109  United States        year          89000.0              NaN   \n",
       "\n",
       "                        company_name  \\\n",
       "28                          Netskope   \n",
       "77                        Intelletec   \n",
       "92                      Apex Systems   \n",
       "100                           TikTok   \n",
       "109  Get It Recruit - Transportation   \n",
       "\n",
       "                                            job_skills  \\\n",
       "28                                   ['gdpr', 'excel']   \n",
       "77   ['mongodb', 'mongodb', 'python', 'r', 'sql', '...   \n",
       "92                                   ['sql', 'python']   \n",
       "100                  ['sql', 'r', 'python', 'express']   \n",
       "109              ['python', 'r', 'alteryx', 'tableau']   \n",
       "\n",
       "                                       job_type_skills  \n",
       "28   {'analyst_tools': ['excel'], 'libraries': ['gd...  \n",
       "77   {'analyst_tools': ['tableau'], 'cloud': ['orac...  \n",
       "92                  {'programming': ['sql', 'python']}  \n",
       "100  {'programming': ['sql', 'r', 'python'], 'webfr...  \n",
       "109  {'analyst_tools': ['alteryx', 'tableau'], 'pro...  "
      ]
     },
     "execution_count": 187,
     "metadata": {},
     "output_type": "execute_result"
    }
   ],
   "source": [
    "df_limpio7.head(5)"
   ]
  },
  {
   "cell_type": "code",
   "execution_count": 171,
   "id": "10cce67b",
   "metadata": {},
   "outputs": [],
   "source": [
    "df_limpio4 = df_limpio['salary_year_avg'].dropna()"
   ]
  },
  {
   "cell_type": "code",
   "execution_count": 174,
   "id": "8d54125e",
   "metadata": {},
   "outputs": [
    {
     "data": {
      "text/plain": [
       "28     109500.0\n",
       "77     140000.0\n",
       "92     120000.0\n",
       "100    228222.0\n",
       "109     89000.0\n",
       "Name: salary_year_avg, dtype: float64"
      ]
     },
     "execution_count": 174,
     "metadata": {},
     "output_type": "execute_result"
    }
   ],
   "source": [
    "df_limpio4.head(5)"
   ]
  },
  {
   "cell_type": "code",
   "execution_count": 175,
   "id": "b0f28749",
   "metadata": {},
   "outputs": [],
   "source": [
    "## Eliminar filas donde falten valores en varias columnas específicas, 'job_title' o 'company_location'"
   ]
  },
  {
   "cell_type": "code",
   "execution_count": 177,
   "id": "08de00e6",
   "metadata": {},
   "outputs": [],
   "source": [
    "df_limpio5 = df_limpio[['job_title','job_location']].dropna()"
   ]
  },
  {
   "cell_type": "code",
   "execution_count": 179,
   "id": "49c16030",
   "metadata": {},
   "outputs": [
    {
     "data": {
      "text/plain": [
       "job_title       0\n",
       "job_location    0\n",
       "dtype: int64"
      ]
     },
     "execution_count": 179,
     "metadata": {},
     "output_type": "execute_result"
    }
   ],
   "source": [
    "df_limpio5.isna().sum()"
   ]
  },
  {
   "cell_type": "code",
   "execution_count": 188,
   "id": "45d10e0d",
   "metadata": {},
   "outputs": [],
   "source": [
    "df_limpio5 = df_limpio.dropna(subset=['job_title','job_location'])"
   ]
  },
  {
   "cell_type": "code",
   "execution_count": 189,
   "id": "ea62a451",
   "metadata": {},
   "outputs": [
    {
     "data": {
      "text/html": [
       "<div>\n",
       "<style scoped>\n",
       "    .dataframe tbody tr th:only-of-type {\n",
       "        vertical-align: middle;\n",
       "    }\n",
       "\n",
       "    .dataframe tbody tr th {\n",
       "        vertical-align: top;\n",
       "    }\n",
       "\n",
       "    .dataframe thead th {\n",
       "        text-align: right;\n",
       "    }\n",
       "</style>\n",
       "<table border=\"1\" class=\"dataframe\">\n",
       "  <thead>\n",
       "    <tr style=\"text-align: right;\">\n",
       "      <th></th>\n",
       "      <th>job_title_short</th>\n",
       "      <th>job_title</th>\n",
       "      <th>job_location</th>\n",
       "      <th>job_via</th>\n",
       "      <th>job_schedule_type</th>\n",
       "      <th>job_work_from_home</th>\n",
       "      <th>search_location</th>\n",
       "      <th>job_posted_date</th>\n",
       "      <th>job_no_degree_mention</th>\n",
       "      <th>job_health_insurance</th>\n",
       "      <th>job_country</th>\n",
       "      <th>salary_rate</th>\n",
       "      <th>salary_year_avg</th>\n",
       "      <th>salary_hour_avg</th>\n",
       "      <th>company_name</th>\n",
       "      <th>job_skills</th>\n",
       "      <th>job_type_skills</th>\n",
       "    </tr>\n",
       "  </thead>\n",
       "  <tbody>\n",
       "    <tr>\n",
       "      <th>0</th>\n",
       "      <td>Senior Data Engineer</td>\n",
       "      <td>Senior Clinical Data Engineer / Principal Clin...</td>\n",
       "      <td>Watertown, CT</td>\n",
       "      <td>via Work Nearby</td>\n",
       "      <td>Full-time</td>\n",
       "      <td>False</td>\n",
       "      <td>Texas, United States</td>\n",
       "      <td>2023-06-16 13:44:15</td>\n",
       "      <td>False</td>\n",
       "      <td>False</td>\n",
       "      <td>United States</td>\n",
       "      <td>None</td>\n",
       "      <td>NaN</td>\n",
       "      <td>NaN</td>\n",
       "      <td>Boehringer Ingelheim</td>\n",
       "      <td>None</td>\n",
       "      <td>None</td>\n",
       "    </tr>\n",
       "    <tr>\n",
       "      <th>1</th>\n",
       "      <td>Data Analyst</td>\n",
       "      <td>Data Analyst</td>\n",
       "      <td>Guadalajara, Jalisco, Mexico</td>\n",
       "      <td>via BeBee México</td>\n",
       "      <td>Full-time</td>\n",
       "      <td>False</td>\n",
       "      <td>Mexico</td>\n",
       "      <td>2023-01-14 13:18:07</td>\n",
       "      <td>False</td>\n",
       "      <td>False</td>\n",
       "      <td>Mexico</td>\n",
       "      <td>None</td>\n",
       "      <td>NaN</td>\n",
       "      <td>NaN</td>\n",
       "      <td>Hewlett Packard Enterprise</td>\n",
       "      <td>['r', 'python', 'sql', 'nosql', 'power bi', 't...</td>\n",
       "      <td>{'analyst_tools': ['power bi', 'tableau'], 'pr...</td>\n",
       "    </tr>\n",
       "    <tr>\n",
       "      <th>2</th>\n",
       "      <td>Data Engineer</td>\n",
       "      <td>Data Engineer/Scientist/Analyst, Mid or Senior...</td>\n",
       "      <td>Berlin, Germany</td>\n",
       "      <td>via LinkedIn</td>\n",
       "      <td>Full-time</td>\n",
       "      <td>False</td>\n",
       "      <td>Germany</td>\n",
       "      <td>2023-10-10 13:14:55</td>\n",
       "      <td>False</td>\n",
       "      <td>False</td>\n",
       "      <td>Germany</td>\n",
       "      <td>None</td>\n",
       "      <td>NaN</td>\n",
       "      <td>NaN</td>\n",
       "      <td>ALPHA Augmented Services</td>\n",
       "      <td>['python', 'sql', 'c#', 'azure', 'airflow', 'd...</td>\n",
       "      <td>{'analyst_tools': ['dax'], 'cloud': ['azure'],...</td>\n",
       "    </tr>\n",
       "    <tr>\n",
       "      <th>3</th>\n",
       "      <td>Data Engineer</td>\n",
       "      <td>LEAD ENGINEER - PRINCIPAL ANALYST - PRINCIPAL ...</td>\n",
       "      <td>San Antonio, TX</td>\n",
       "      <td>via Diversity.com</td>\n",
       "      <td>Full-time</td>\n",
       "      <td>False</td>\n",
       "      <td>Texas, United States</td>\n",
       "      <td>2023-07-04 13:01:41</td>\n",
       "      <td>True</td>\n",
       "      <td>False</td>\n",
       "      <td>United States</td>\n",
       "      <td>None</td>\n",
       "      <td>NaN</td>\n",
       "      <td>NaN</td>\n",
       "      <td>Southwest Research Institute</td>\n",
       "      <td>['python', 'c++', 'java', 'matlab', 'aws', 'te...</td>\n",
       "      <td>{'cloud': ['aws'], 'libraries': ['tensorflow',...</td>\n",
       "    </tr>\n",
       "    <tr>\n",
       "      <th>4</th>\n",
       "      <td>Data Engineer</td>\n",
       "      <td>Data Engineer- Sr Jobs</td>\n",
       "      <td>Washington, DC</td>\n",
       "      <td>via Clearance Jobs</td>\n",
       "      <td>Full-time</td>\n",
       "      <td>False</td>\n",
       "      <td>Sudan</td>\n",
       "      <td>2023-08-07 14:29:36</td>\n",
       "      <td>False</td>\n",
       "      <td>False</td>\n",
       "      <td>Sudan</td>\n",
       "      <td>None</td>\n",
       "      <td>NaN</td>\n",
       "      <td>NaN</td>\n",
       "      <td>Kristina Daniel</td>\n",
       "      <td>['bash', 'python', 'oracle', 'aws', 'ansible',...</td>\n",
       "      <td>{'cloud': ['oracle', 'aws'], 'other': ['ansibl...</td>\n",
       "    </tr>\n",
       "  </tbody>\n",
       "</table>\n",
       "</div>"
      ],
      "text/plain": [
       "        job_title_short                                          job_title  \\\n",
       "0  Senior Data Engineer  Senior Clinical Data Engineer / Principal Clin...   \n",
       "1          Data Analyst                                       Data Analyst   \n",
       "2         Data Engineer  Data Engineer/Scientist/Analyst, Mid or Senior...   \n",
       "3         Data Engineer  LEAD ENGINEER - PRINCIPAL ANALYST - PRINCIPAL ...   \n",
       "4         Data Engineer                             Data Engineer- Sr Jobs   \n",
       "\n",
       "                   job_location             job_via job_schedule_type  \\\n",
       "0                 Watertown, CT     via Work Nearby         Full-time   \n",
       "1  Guadalajara, Jalisco, Mexico    via BeBee México         Full-time   \n",
       "2               Berlin, Germany        via LinkedIn         Full-time   \n",
       "3               San Antonio, TX   via Diversity.com         Full-time   \n",
       "4                Washington, DC  via Clearance Jobs         Full-time   \n",
       "\n",
       "   job_work_from_home       search_location     job_posted_date  \\\n",
       "0               False  Texas, United States 2023-06-16 13:44:15   \n",
       "1               False                Mexico 2023-01-14 13:18:07   \n",
       "2               False               Germany 2023-10-10 13:14:55   \n",
       "3               False  Texas, United States 2023-07-04 13:01:41   \n",
       "4               False                 Sudan 2023-08-07 14:29:36   \n",
       "\n",
       "   job_no_degree_mention  job_health_insurance    job_country salary_rate  \\\n",
       "0                  False                 False  United States        None   \n",
       "1                  False                 False         Mexico        None   \n",
       "2                  False                 False        Germany        None   \n",
       "3                   True                 False  United States        None   \n",
       "4                  False                 False          Sudan        None   \n",
       "\n",
       "   salary_year_avg  salary_hour_avg                  company_name  \\\n",
       "0              NaN              NaN          Boehringer Ingelheim   \n",
       "1              NaN              NaN    Hewlett Packard Enterprise   \n",
       "2              NaN              NaN      ALPHA Augmented Services   \n",
       "3              NaN              NaN  Southwest Research Institute   \n",
       "4              NaN              NaN               Kristina Daniel   \n",
       "\n",
       "                                          job_skills  \\\n",
       "0                                               None   \n",
       "1  ['r', 'python', 'sql', 'nosql', 'power bi', 't...   \n",
       "2  ['python', 'sql', 'c#', 'azure', 'airflow', 'd...   \n",
       "3  ['python', 'c++', 'java', 'matlab', 'aws', 'te...   \n",
       "4  ['bash', 'python', 'oracle', 'aws', 'ansible',...   \n",
       "\n",
       "                                     job_type_skills  \n",
       "0                                               None  \n",
       "1  {'analyst_tools': ['power bi', 'tableau'], 'pr...  \n",
       "2  {'analyst_tools': ['dax'], 'cloud': ['azure'],...  \n",
       "3  {'cloud': ['aws'], 'libraries': ['tensorflow',...  \n",
       "4  {'cloud': ['oracle', 'aws'], 'other': ['ansibl...  "
      ]
     },
     "execution_count": 189,
     "metadata": {},
     "output_type": "execute_result"
    }
   ],
   "source": [
    "df_limpio5.head(5)"
   ]
  },
  {
   "cell_type": "code",
   "execution_count": 180,
   "id": "974a416d",
   "metadata": {},
   "outputs": [],
   "source": [
    "df_limpio6 = df_limpio.dropna(axis=1,how='all')"
   ]
  },
  {
   "cell_type": "code",
   "execution_count": 185,
   "id": "f11a85f1",
   "metadata": {},
   "outputs": [
    {
     "data": {
      "text/plain": [
       "job_title_short               0\n",
       "job_title                     1\n",
       "job_location               1045\n",
       "job_via                       8\n",
       "job_schedule_type         12667\n",
       "job_work_from_home            0\n",
       "search_location               0\n",
       "job_posted_date               0\n",
       "job_no_degree_mention         0\n",
       "job_health_insurance          0\n",
       "job_country                  49\n",
       "salary_rate              752674\n",
       "salary_year_avg          763738\n",
       "salary_hour_avg          775079\n",
       "company_name                 18\n",
       "job_skills               117037\n",
       "job_type_skills          117037\n",
       "dtype: int64"
      ]
     },
     "execution_count": 185,
     "metadata": {},
     "output_type": "execute_result"
    }
   ],
   "source": [
    "df_limpio6.isna().sum()"
   ]
  },
  {
   "cell_type": "code",
   "execution_count": null,
   "id": "93f9afb4",
   "metadata": {},
   "outputs": [],
   "source": [
    "## Reiniciar el índice después de eliminar filas"
   ]
  },
  {
   "cell_type": "code",
   "execution_count": 192,
   "id": "63f19b78",
   "metadata": {},
   "outputs": [],
   "source": [
    "df_reset = df_limpio.dropna().reset_index(drop=True)"
   ]
  },
  {
   "cell_type": "code",
   "execution_count": 195,
   "id": "8a0a989f",
   "metadata": {},
   "outputs": [],
   "source": [
    "# Remove rows where the salary_year_avg column has missing values. \n",
    "# Display the number of rows before and after removing."
   ]
  },
  {
   "cell_type": "code",
   "execution_count": 197,
   "id": "a434fe5e",
   "metadata": {},
   "outputs": [
    {
     "name": "stdout",
     "output_type": "stream",
     "text": [
      "785741 22003\n"
     ]
    }
   ],
   "source": [
    "antes = len(df)\n",
    "df_new = df.dropna(subset=['salary_year_avg'])\n",
    "despues = len(df_new)\n",
    "print(antes, despues)"
   ]
  },
  {
   "cell_type": "code",
   "execution_count": 198,
   "id": "4608917c",
   "metadata": {},
   "outputs": [],
   "source": [
    "# Remove duplicate rows from the DataFrame based on the job_location column. \n",
    "# Display the number of rows before and after removing duplicates."
   ]
  },
  {
   "cell_type": "code",
   "execution_count": 199,
   "id": "3b50d617",
   "metadata": {},
   "outputs": [
    {
     "name": "stdout",
     "output_type": "stream",
     "text": [
      " 785741 y 17218\n"
     ]
    }
   ],
   "source": [
    "dupli_antes = len(df)\n",
    "df_new2 = df.drop_duplicates(subset=['job_location'])\n",
    "dupli_despues = len(df_new2)\n",
    "print(f' {dupli_antes} y {dupli_despues}')"
   ]
  },
  {
   "cell_type": "code",
   "execution_count": 200,
   "id": "a049d366",
   "metadata": {},
   "outputs": [],
   "source": [
    "# Fill missing values in the salary_rate column with the string 'Unknown'. \n",
    "# Display the first 10 rows of the salary_rate column before and after filling."
   ]
  },
  {
   "cell_type": "code",
   "execution_count": 203,
   "id": "b3fc0c77",
   "metadata": {},
   "outputs": [
    {
     "name": "stdout",
     "output_type": "stream",
     "text": [
      " 0    None\n",
      "1    None\n",
      "2    None\n",
      "3    None\n",
      "4    None\n",
      "5    None\n",
      "6    None\n",
      "7    None\n",
      "8    None\n",
      "9    None\n",
      "Name: salary_rate, dtype: object y 0    Unknown\n",
      "1    Unknown\n",
      "2    Unknown\n",
      "3    Unknown\n",
      "4    Unknown\n",
      "5    Unknown\n",
      "6    Unknown\n",
      "7    Unknown\n",
      "8    Unknown\n",
      "9    Unknown\n",
      "Name: salary_rate, dtype: object\n"
     ]
    }
   ],
   "source": [
    "df_newfill = df\n",
    "antes_fill = df_newfill['salary_rate'].head(10)\n",
    "df_newfill['salary_rate']= df_newfill['salary_rate'].fillna('Unknown')\n",
    "despues_fill = df_newfill['salary_rate'].head(10)\n",
    "print(f' {antes_fill} y {despues_fill}')"
   ]
  },
  {
   "cell_type": "markdown",
   "id": "29df6756",
   "metadata": {},
   "source": [
    "Ejercicios con 'replace'"
   ]
  },
  {
   "cell_type": "code",
   "execution_count": 205,
   "id": "7047ad68",
   "metadata": {},
   "outputs": [],
   "source": [
    "df_replace = df"
   ]
  },
  {
   "cell_type": "code",
   "execution_count": null,
   "id": "2bc5fab7",
   "metadata": {},
   "outputs": [
    {
     "data": {
      "text/plain": [
       "0                               Watertown, CT\n",
       "1                Guadalajara, Jalisco, Mexico\n",
       "2                             Berlin, Germany\n",
       "3                             San Antonio, TX\n",
       "4                              Washington, DC\n",
       "                         ...                 \n",
       "785736                              Singapura\n",
       "785737                     Bad Rodach, Jerman\n",
       "785738                               Malaysia\n",
       "785739    Newark, New Jersey, Amerika Serikat\n",
       "785740                                  India\n",
       "Name: job_location, Length: 785741, dtype: object"
      ]
     },
     "execution_count": 238,
     "metadata": {},
     "output_type": "execute_result"
    }
   ],
   "source": [
    "#REEMPLAZO VALOR DE TEXTO\n",
    "\n",
    "df_rep1 = df['job_location'].replace('US','United States')\n",
    "df_rep1\n",
    "# Reemplaza \"US\" por \"United States\" en la columna 'company_location'."
   ]
  },
  {
   "cell_type": "code",
   "execution_count": 239,
   "id": "4844be13",
   "metadata": {},
   "outputs": [
    {
     "data": {
      "text/plain": [
       "0               Full-time\n",
       "1               Full-time\n",
       "2               Full-time\n",
       "3               Full-time\n",
       "4               Full-time\n",
       "               ...       \n",
       "785736    Pekerjaan tetap\n",
       "785737    Pekerjaan tetap\n",
       "785738    Pekerjaan tetap\n",
       "785739    Pekerjaan tetap\n",
       "785740    Pekerjaan tetap\n",
       "Name: job_schedule_type, Length: 785741, dtype: object"
      ]
     },
     "execution_count": 239,
     "metadata": {},
     "output_type": "execute_result"
    }
   ],
   "source": [
    "# REEMPLAZO VARIOS TEXTOS EN UNA COLUMNA\n",
    "\n",
    "df_rep2 = df['job_schedule_type'].replace({'FT':'Full-time','PT':'Part-time'})\n",
    "df_rep2\n",
    "# En la columna 'employment_type', cambia: \"FT\" → \"Full-time\", \"PT\" → \"Part-time\""
   ]
  },
  {
   "cell_type": "code",
   "execution_count": 241,
   "id": "0c20dfe9",
   "metadata": {},
   "outputs": [
    {
     "data": {
      "text/plain": [
       "0        NaN\n",
       "1        NaN\n",
       "2        NaN\n",
       "3        NaN\n",
       "4        NaN\n",
       "          ..\n",
       "785736   NaN\n",
       "785737   NaN\n",
       "785738   NaN\n",
       "785739   NaN\n",
       "785740   NaN\n",
       "Name: salary_year_avg, Length: 785741, dtype: float64"
      ]
     },
     "execution_count": 241,
     "metadata": {},
     "output_type": "execute_result"
    }
   ],
   "source": [
    "# REEMPLAZO DE UNICO VALOR NUMERICO (Numpy)\n",
    "import numpy as np\n",
    "\n",
    "df_rep3 = df['salary_year_avg'].replace(0, np.nan)\n",
    "df_rep3\n",
    "\n",
    "# Si 'salary_year_avg' tiene algún valor igual a 0, se reemplaza por NaN"
   ]
  },
  {
   "cell_type": "code",
   "execution_count": 242,
   "id": "39e8a3c5",
   "metadata": {},
   "outputs": [
    {
     "data": {
      "text/plain": [
       "0        NaN\n",
       "1        NaN\n",
       "2        NaN\n",
       "3        NaN\n",
       "4        NaN\n",
       "          ..\n",
       "785736   NaN\n",
       "785737   NaN\n",
       "785738   NaN\n",
       "785739   NaN\n",
       "785740   NaN\n",
       "Name: salary_year_avg, Length: 785741, dtype: float64"
      ]
     },
     "execution_count": 242,
     "metadata": {},
     "output_type": "execute_result"
    }
   ],
   "source": [
    "# REEMPLAZO DE VARIOS VALORES NUMERICOS (Numpy)\n",
    "\n",
    "df_rep4 = df['salary_year_avg'].replace([0,-1], np.nan)\n",
    "df_rep4\n",
    "# Reemplaza [0, -1] por None en 'salary_year_avg'."
   ]
  },
  {
   "cell_type": "code",
   "execution_count": null,
   "id": "c7384054",
   "metadata": {},
   "outputs": [],
   "source": [
    "# REEMPLAZO VARIOS VALORES PARA VARIAS COLUMNAS\n",
    "\n",
    "df_rep5 = df['salary_year_avg'].replace({\n",
    "                                          'company_size': {'S': 'Small', 'M': 'Medium', 'L': 'Large'},\n",
    "                                          'job_schedule_type': {'FT': 'Full-time', 'CT': 'Contract'}\n",
    "                                        })\n",
    "df_rep5\n",
    "# En 'company_size': \"S\" → \"Small\", \"M\" → \"Medium\". En 'employment_type': \"FT\" → \"Full-time\", \"CT\" → \"Contract\"\n"
   ]
  },
  {
   "cell_type": "code",
   "execution_count": 244,
   "id": "13887cfb",
   "metadata": {},
   "outputs": [
    {
     "data": {
      "text/plain": [
       "0         Senior Clinical Information Engineer / Princip...\n",
       "1                                       Information Analyst\n",
       "2         Information Engineer/Scientist/Analyst, Mid or...\n",
       "3         LEAD ENGINEER - PRINCIPAL ANALYST - PRINCIPAL ...\n",
       "4                             Information Engineer- Sr Jobs\n",
       "                                ...                        \n",
       "785736                                      DevOps Engineer\n",
       "785737                              CRM Information Analyst\n",
       "785738                       Commercial Analyst - Start Now\n",
       "785739    Principal Associate, Information Engineer (Rem...\n",
       "785740                                   AWS System Analyst\n",
       "Name: job_title, Length: 785741, dtype: object"
      ]
     },
     "execution_count": 244,
     "metadata": {},
     "output_type": "execute_result"
    }
   ],
   "source": [
    "# REEMPLAZO DE VALOR CON EXPRESIONES REGULARES (regex=True)\n",
    "\n",
    "df_rep6 = df['job_title'].replace(r'(?i)data', 'Information', regex=True)\n",
    "df_rep6\n",
    "# Reemplaza la palabra \"Data\" (mayúsculas o minúsculas) por \"Information\".\n",
    "# la r'' indica la expresion regular. El modificador (?i) indica \"ignorar mayúsculas/minúsculas\"."
   ]
  },
  {
   "cell_type": "code",
   "execution_count": 245,
   "id": "35fc20cd",
   "metadata": {},
   "outputs": [
    {
     "name": "stderr",
     "output_type": "stream",
     "text": [
      "C:\\Users\\JK_al\\AppData\\Local\\Temp\\ipykernel_2748\\1687494580.py:3: FutureWarning: A value is trying to be set on a copy of a DataFrame or Series through chained assignment using an inplace method.\n",
      "The behavior will change in pandas 3.0. This inplace method will never work because the intermediate object on which we are setting values always behaves as a copy.\n",
      "\n",
      "For example, when doing 'df[col].method(value, inplace=True)', try using 'df.method({col: value}, inplace=True)' or df[col] = df[col].method(value) instead, to perform the operation inplace on the original object.\n",
      "\n",
      "\n",
      "  df_replace['job_location'].replace('Remote', 'Remote Work', inplace=True)\n"
     ]
    }
   ],
   "source": [
    "# REEMPLAZO VALORES DIRECTAMENTE EN EL DATAFRAME ORIGINAL\n",
    "\n",
    "df_replace['job_location'].replace('Remote', 'Remote Work', inplace=True)"
   ]
  },
  {
   "cell_type": "code",
   "execution_count": 246,
   "id": "36d82f80",
   "metadata": {},
   "outputs": [
    {
     "data": {
      "text/plain": [
       "0                               Watertown, CT\n",
       "1                Guadalajara, Jalisco, Mexico\n",
       "2                             Berlin, Germany\n",
       "3                             San Antonio, TX\n",
       "4                              Washington, DC\n",
       "                         ...                 \n",
       "785736                              Singapura\n",
       "785737                     Bad Rodach, Jerman\n",
       "785738                               Malaysia\n",
       "785739    Newark, New Jersey, Amerika Serikat\n",
       "785740                                  India\n",
       "Name: job_location, Length: 785741, dtype: object"
      ]
     },
     "execution_count": 246,
     "metadata": {},
     "output_type": "execute_result"
    }
   ],
   "source": [
    "# REEMPLAZO DE VALORES NULOS CON UN TEXTO (SE PUEDE USAR FILLNA())\n",
    "\n",
    "df_rep7 = df['job_location'].replace(np.nan, 'Unknown')\n",
    "df_rep7"
   ]
  },
  {
   "cell_type": "code",
   "execution_count": 247,
   "id": "6b195185",
   "metadata": {},
   "outputs": [],
   "source": [
    "# REEMPLAZO CON CONDICIONAL (SE USA LOC[] CON LA CONDICION)\n",
    "\n",
    "mean_salary = df_replace['salary_year_avg'].mean()\n",
    "df_replace.loc[df_replace['salary_year_avg'] < 10000, 'salary_year_avg'] = mean_salary\n",
    "# Todos los salarios menores de 10000 se reemplazan por el promedio."
   ]
  },
  {
   "cell_type": "code",
   "execution_count": 249,
   "id": "cb8d106a",
   "metadata": {},
   "outputs": [
    {
     "data": {
      "text/plain": [
       "0         Senior Clinical Data Eng. / Principal Clinical...\n",
       "1                                              Data Analyst\n",
       "2         Data Eng./Scientist/Analyst, Mid or Senior (m/...\n",
       "3         LEAD ENGINEER - PRINCIPAL ANALYST - PRINCIPAL ...\n",
       "4                                        Data Eng.- Sr Jobs\n",
       "                                ...                        \n",
       "785736                                          DevOps Eng.\n",
       "785737                                     CRM Data Analyst\n",
       "785738                       Commercial Analyst - Start Now\n",
       "785739     Principal Associate, Data Eng. (Remote-Eligible)\n",
       "785740                                   AWS System Analyst\n",
       "Name: job_title, Length: 785741, dtype: object"
      ]
     },
     "execution_count": 249,
     "metadata": {},
     "output_type": "execute_result"
    }
   ],
   "source": [
    "# REEMPLAZO POR TEXTO PARCIAL CON EXPRESIONES REGULARES\n",
    "\n",
    "df_rep8 = df['job_title'].replace(r'Engineer', 'Eng.', regex=True)\n",
    "df_rep8\n",
    "# \"Data Engineer\" → \"Data Eng.\"."
   ]
  },
  {
   "cell_type": "code",
   "execution_count": null,
   "id": "465eed6f",
   "metadata": {},
   "outputs": [],
   "source": []
  }
 ],
 "metadata": {
  "kernelspec": {
   "display_name": "Python_course",
   "language": "python",
   "name": "python3"
  },
  "language_info": {
   "codemirror_mode": {
    "name": "ipython",
    "version": 3
   },
   "file_extension": ".py",
   "mimetype": "text/x-python",
   "name": "python",
   "nbconvert_exporter": "python",
   "pygments_lexer": "ipython3",
   "version": "3.11.13"
  }
 },
 "nbformat": 4,
 "nbformat_minor": 5
}
